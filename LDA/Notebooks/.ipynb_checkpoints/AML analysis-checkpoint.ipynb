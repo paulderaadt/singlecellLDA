{
 "cells": [
  {
   "cell_type": "markdown",
   "metadata": {
    "collapsed": true
   },
   "source": [
    "# AML analysis notebook"
   ]
  },
  {
   "cell_type": "code",
   "execution_count": 1,
   "metadata": {
    "collapsed": true
   },
   "outputs": [],
   "source": [
    "import pandas as pd\n",
    "from sklearn.discriminant_analysis import LinearDiscriminantAnalysis\n",
    "import numpy as np\n",
    "from sklearn.metrics import f1_score\n",
    "import os\n",
    "from sklearn.model_selection import KFold\n",
    "from sklearn import metrics\n",
    "import matplotlib.pyplot as plt\n"
   ]
  },
  {
   "cell_type": "code",
   "execution_count": 2,
   "metadata": {
    "collapsed": true
   },
   "outputs": [],
   "source": [
    "aml = pd.read_csv('../Data/AML_benchmark.csv')"
   ]
  },
  {
   "cell_type": "markdown",
   "metadata": {},
   "source": [
    "Dropping non-gated labeled cells as in paper"
   ]
  },
  {
   "cell_type": "code",
   "execution_count": 3,
   "metadata": {},
   "outputs": [
    {
     "data": {
      "text/plain": [
       "(104184, 32)"
      ]
     },
     "execution_count": 3,
     "metadata": {},
     "output_type": "execute_result"
    }
   ],
   "source": [
    "aml = aml.loc[aml['cell_type'] != 'NotDebrisSinglets']\n",
    "\n",
    "aml = aml.drop(axis='columns', labels=[\"Time\", \"Cell_length\", \"DNA1\", \"DNA2\",\n",
    "                                       \"Viability\", \"file_number\", \"event_number\", \"subject\"])\n",
    "amllabels = pd.DataFrame(aml['cell_type'])\n",
    "\n",
    "aml = aml.drop(axis='columns', labels=\"cell_type\")\n",
    "aml.shape"
   ]
  },
  {
   "cell_type": "markdown",
   "metadata": {},
   "source": [
    "arcsinh(5) transform"
   ]
  },
  {
   "cell_type": "code",
   "execution_count": 4,
   "metadata": {},
   "outputs": [
    {
     "data": {
      "text/html": [
       "<div>\n",
       "<style scoped>\n",
       "    .dataframe tbody tr th:only-of-type {\n",
       "        vertical-align: middle;\n",
       "    }\n",
       "\n",
       "    .dataframe tbody tr th {\n",
       "        vertical-align: top;\n",
       "    }\n",
       "\n",
       "    .dataframe thead th {\n",
       "        text-align: right;\n",
       "    }\n",
       "</style>\n",
       "<table border=\"1\" class=\"dataframe\">\n",
       "  <thead>\n",
       "    <tr style=\"text-align: right;\">\n",
       "      <th></th>\n",
       "      <th>CD45RA</th>\n",
       "      <th>CD133</th>\n",
       "      <th>CD19</th>\n",
       "      <th>CD22</th>\n",
       "      <th>CD11b</th>\n",
       "      <th>CD4</th>\n",
       "      <th>CD8</th>\n",
       "      <th>CD34</th>\n",
       "      <th>Flt3</th>\n",
       "      <th>CD20</th>\n",
       "      <th>...</th>\n",
       "      <th>CD44</th>\n",
       "      <th>CD38</th>\n",
       "      <th>CD13</th>\n",
       "      <th>CD3</th>\n",
       "      <th>CD61</th>\n",
       "      <th>CD117</th>\n",
       "      <th>CD49d2</th>\n",
       "      <th>HLA-DR</th>\n",
       "      <th>CD64</th>\n",
       "      <th>CD41</th>\n",
       "    </tr>\n",
       "  </thead>\n",
       "  <tbody>\n",
       "    <tr>\n",
       "      <th>0</th>\n",
       "      <td>-0.036582</td>\n",
       "      <td>-0.227619</td>\n",
       "      <td>-0.205252</td>\n",
       "      <td>-0.133169</td>\n",
       "      <td>-0.207688</td>\n",
       "      <td>0.170835</td>\n",
       "      <td>0.337530</td>\n",
       "      <td>-0.211231</td>\n",
       "      <td>0.171368</td>\n",
       "      <td>-0.182093</td>\n",
       "      <td>...</td>\n",
       "      <td>3.109508</td>\n",
       "      <td>1.297783</td>\n",
       "      <td>-0.160746</td>\n",
       "      <td>-0.230554</td>\n",
       "      <td>-0.201568</td>\n",
       "      <td>-0.146402</td>\n",
       "      <td>0.701901</td>\n",
       "      <td>1.588788</td>\n",
       "      <td>-0.203959</td>\n",
       "      <td>-0.200613</td>\n",
       "    </tr>\n",
       "    <tr>\n",
       "      <th>1</th>\n",
       "      <td>0.534466</td>\n",
       "      <td>-0.236090</td>\n",
       "      <td>-0.214995</td>\n",
       "      <td>-0.125195</td>\n",
       "      <td>0.651745</td>\n",
       "      <td>-0.233309</td>\n",
       "      <td>-0.209026</td>\n",
       "      <td>-0.110190</td>\n",
       "      <td>4.196187</td>\n",
       "      <td>0.007353</td>\n",
       "      <td>...</td>\n",
       "      <td>3.432093</td>\n",
       "      <td>3.435623</td>\n",
       "      <td>1.365302</td>\n",
       "      <td>-0.241136</td>\n",
       "      <td>1.148348</td>\n",
       "      <td>-0.109998</td>\n",
       "      <td>-0.000889</td>\n",
       "      <td>0.306797</td>\n",
       "      <td>-0.054652</td>\n",
       "      <td>0.717917</td>\n",
       "    </tr>\n",
       "    <tr>\n",
       "      <th>2</th>\n",
       "      <td>0.427726</td>\n",
       "      <td>-0.230183</td>\n",
       "      <td>-0.125746</td>\n",
       "      <td>-0.240661</td>\n",
       "      <td>-0.200534</td>\n",
       "      <td>-0.207293</td>\n",
       "      <td>-0.204210</td>\n",
       "      <td>-0.226772</td>\n",
       "      <td>-0.223618</td>\n",
       "      <td>-0.228663</td>\n",
       "      <td>...</td>\n",
       "      <td>4.122663</td>\n",
       "      <td>1.425848</td>\n",
       "      <td>0.015210</td>\n",
       "      <td>0.125988</td>\n",
       "      <td>0.059944</td>\n",
       "      <td>-0.153162</td>\n",
       "      <td>2.556279</td>\n",
       "      <td>1.202985</td>\n",
       "      <td>-0.209427</td>\n",
       "      <td>-0.208891</td>\n",
       "    </tr>\n",
       "    <tr>\n",
       "      <th>3</th>\n",
       "      <td>0.245018</td>\n",
       "      <td>-0.225693</td>\n",
       "      <td>-0.215979</td>\n",
       "      <td>-0.241725</td>\n",
       "      <td>0.569956</td>\n",
       "      <td>-0.217352</td>\n",
       "      <td>-0.143370</td>\n",
       "      <td>-0.225507</td>\n",
       "      <td>-0.235831</td>\n",
       "      <td>0.271560</td>\n",
       "      <td>...</td>\n",
       "      <td>3.521768</td>\n",
       "      <td>4.141659</td>\n",
       "      <td>0.331239</td>\n",
       "      <td>-0.139072</td>\n",
       "      <td>-0.238874</td>\n",
       "      <td>-0.133088</td>\n",
       "      <td>1.236133</td>\n",
       "      <td>-0.058980</td>\n",
       "      <td>-0.211861</td>\n",
       "      <td>-0.224160</td>\n",
       "    </tr>\n",
       "    <tr>\n",
       "      <th>4</th>\n",
       "      <td>-0.207321</td>\n",
       "      <td>-0.228313</td>\n",
       "      <td>-0.119208</td>\n",
       "      <td>0.311301</td>\n",
       "      <td>0.982524</td>\n",
       "      <td>0.372641</td>\n",
       "      <td>-0.167895</td>\n",
       "      <td>-0.236689</td>\n",
       "      <td>0.234441</td>\n",
       "      <td>0.134938</td>\n",
       "      <td>...</td>\n",
       "      <td>2.874616</td>\n",
       "      <td>3.701703</td>\n",
       "      <td>0.408337</td>\n",
       "      <td>-0.062343</td>\n",
       "      <td>-0.030587</td>\n",
       "      <td>-0.204789</td>\n",
       "      <td>-0.018087</td>\n",
       "      <td>-0.001385</td>\n",
       "      <td>-0.123445</td>\n",
       "      <td>-0.238239</td>\n",
       "    </tr>\n",
       "  </tbody>\n",
       "</table>\n",
       "<p>5 rows × 32 columns</p>\n",
       "</div>"
      ],
      "text/plain": [
       "     CD45RA     CD133      CD19      CD22     CD11b       CD4       CD8  \\\n",
       "0 -0.036582 -0.227619 -0.205252 -0.133169 -0.207688  0.170835  0.337530   \n",
       "1  0.534466 -0.236090 -0.214995 -0.125195  0.651745 -0.233309 -0.209026   \n",
       "2  0.427726 -0.230183 -0.125746 -0.240661 -0.200534 -0.207293 -0.204210   \n",
       "3  0.245018 -0.225693 -0.215979 -0.241725  0.569956 -0.217352 -0.143370   \n",
       "4 -0.207321 -0.228313 -0.119208  0.311301  0.982524  0.372641 -0.167895   \n",
       "\n",
       "       CD34      Flt3      CD20    ...         CD44      CD38      CD13  \\\n",
       "0 -0.211231  0.171368 -0.182093    ...     3.109508  1.297783 -0.160746   \n",
       "1 -0.110190  4.196187  0.007353    ...     3.432093  3.435623  1.365302   \n",
       "2 -0.226772 -0.223618 -0.228663    ...     4.122663  1.425848  0.015210   \n",
       "3 -0.225507 -0.235831  0.271560    ...     3.521768  4.141659  0.331239   \n",
       "4 -0.236689  0.234441  0.134938    ...     2.874616  3.701703  0.408337   \n",
       "\n",
       "        CD3      CD61     CD117    CD49d2    HLA-DR      CD64      CD41  \n",
       "0 -0.230554 -0.201568 -0.146402  0.701901  1.588788 -0.203959 -0.200613  \n",
       "1 -0.241136  1.148348 -0.109998 -0.000889  0.306797 -0.054652  0.717917  \n",
       "2  0.125988  0.059944 -0.153162  2.556279  1.202985 -0.209427 -0.208891  \n",
       "3 -0.139072 -0.238874 -0.133088  1.236133 -0.058980 -0.211861 -0.224160  \n",
       "4 -0.062343 -0.030587 -0.204789 -0.018087 -0.001385 -0.123445 -0.238239  \n",
       "\n",
       "[5 rows x 32 columns]"
      ]
     },
     "execution_count": 4,
     "metadata": {},
     "output_type": "execute_result"
    }
   ],
   "source": [
    "aml = np.arcsinh((aml-1)/5)\n",
    "aml.head(5)"
   ]
  },
  {
   "cell_type": "markdown",
   "metadata": {},
   "source": [
    "Train LDA & predict labels with CV-cells (5 fold)"
   ]
  },
  {
   "cell_type": "code",
   "execution_count": 5,
   "metadata": {},
   "outputs": [
    {
     "name": "stderr",
     "output_type": "stream",
     "text": [
      "/home/paul/anaconda3/lib/python3.6/site-packages/sklearn/discriminant_analysis.py:442: UserWarning: The priors do not sum to 1. Renormalizing\n",
      "  UserWarning)\n"
     ]
    }
   ],
   "source": [
    "amlpredictions = []\n",
    "# random state ensures same stratification for training/predicting for eventual evaluation\n",
    "# training without shuffling data gives BAD results\n",
    "kfoldsplitter = KFold(n_splits=5, shuffle=True, random_state=1)\n",
    "for train, test in kfoldsplitter.split(aml):\n",
    "    classifier = LinearDiscriminantAnalysis()\n",
    "    testdata = aml.iloc[test].values\n",
    "    traindata = aml.iloc[train].values\n",
    "    trainlabels = amllabels.iloc[train].values.ravel()\n",
    "    #train classifier\n",
    "    classifier.fit(traindata, trainlabels)\n",
    "    #predict labels\n",
    "    prediction = classifier.predict(testdata)\n",
    "    amlpredictions.append(prediction)"
   ]
  },
  {
   "cell_type": "markdown",
   "metadata": {},
   "source": [
    "Evaluate AML performance"
   ]
  },
  {
   "cell_type": "code",
   "execution_count": 6,
   "metadata": {
    "collapsed": true
   },
   "outputs": [],
   "source": [
    "F1list = []\n",
    "logplotF1list = []\n",
    "Acclist = []\n",
    "batch = 0\n",
    "for train, test in kfoldsplitter.split(aml):\n",
    "    #select true labels\n",
    "    true = amllabels.iloc[test].values.ravel()\n",
    "    #select predicted labels\n",
    "    predicted = amlpredictions[batch]\n",
    "    #calculate evaluation metrics\n",
    "    F1list.append(metrics.f1_score(true, predicted, average='weighted'))\n",
    "    logplotF1list.append(metrics.f1_score(true, predicted, average=None, labels=list(set(amllabels.values.ravel()))))\n",
    "    Acclist.append(metrics.accuracy_score(true, predicted))\n",
    "    batch += 1\n"
   ]
  },
  {
   "cell_type": "markdown",
   "metadata": {},
   "source": [
    "## Evaluation metrics\n"
   ]
  },
  {
   "cell_type": "code",
   "execution_count": 7,
   "metadata": {
    "collapsed": true
   },
   "outputs": [],
   "source": [
    "#increase plotsize\n",
    "plt.rcParams['figure.figsize'] = [15, 8]"
   ]
  },
  {
   "cell_type": "code",
   "execution_count": 8,
   "metadata": {},
   "outputs": [
    {
     "name": "stdout",
     "output_type": "stream",
     "text": [
      "AML CV-cells\n",
      "Accuracy mean: 98.13\n",
      "Accuracy std: 0.1\n",
      "F1 median: 0.98\n"
     ]
    }
   ],
   "source": [
    "F1median = np.median(F1list)\n",
    "Accmean = np.mean(Acclist) * 100\n",
    "Accstd = np.std(Acclist) * 100\n",
    "print('AML CV-cells')\n",
    "print('Accuracy mean: %s' % round(Accmean, 2))\n",
    "print('Accuracy std: %s' % round(Accstd, 2))\n",
    "print('F1 median: %s' % round(F1median, 2))"
   ]
  },
  {
   "cell_type": "markdown",
   "metadata": {},
   "source": [
    "Contents of F1list from which the median is drawn"
   ]
  },
  {
   "cell_type": "code",
   "execution_count": 9,
   "metadata": {},
   "outputs": [
    {
     "data": {
      "text/plain": [
       "[0.9811113249956617,\n",
       " 0.9830292093687704,\n",
       " 0.9803931136945024,\n",
       " 0.980985114002782,\n",
       " 0.9822042556197944]"
      ]
     },
     "execution_count": 9,
     "metadata": {},
     "output_type": "execute_result"
    }
   ],
   "source": [
    "F1list"
   ]
  },
  {
   "cell_type": "code",
   "execution_count": 10,
   "metadata": {},
   "outputs": [
    {
     "name": "stdout",
     "output_type": "stream",
     "text": [
      "correct F1 median:\n"
     ]
    },
    {
     "data": {
      "text/plain": [
       "0.9466505773009409"
      ]
     },
     "execution_count": 10,
     "metadata": {},
     "output_type": "execute_result"
    }
   ],
   "source": [
    "print('correct F1 median:')\n",
    "np.median(np.sum(logplotF1list, axis=0)/5)"
   ]
  },
  {
   "cell_type": "markdown",
   "metadata": {},
   "source": [
    "Plot barplot"
   ]
  },
  {
   "cell_type": "code",
   "execution_count": 11,
   "metadata": {
    "collapsed": true
   },
   "outputs": [],
   "source": [
    "#prepare barplot counts\n",
    "amlpredictions = np.hstack(amlpredictions)\n",
    "unique, counts = np.unique(amlpredictions, return_counts=True)\n",
    "amlcountspredicted = dict(zip(unique, counts))\n",
    "unique, counts = np.unique(amllabels['cell_type'], return_counts=True)\n",
    "amlcountstrue = dict(zip(unique, counts))\n",
    "\n"
   ]
  },
  {
   "cell_type": "code",
   "execution_count": 12,
   "metadata": {},
   "outputs": [
    {
     "data": {
      "image/png": "[encoded data removed]",
      "text/plain": [
       "<Figure size 1080x576 with 1 Axes>"
      ]
     },
     "metadata": {},
     "output_type": "display_data"
    }
   ],
   "source": [
    "barWidth = 0.25\n",
    "# set height of bars\n",
    "bars = [[dictionary[key] for key in dictionary] for dictionary in [amlcountstrue, amlcountspredicted]]\n",
    "for x in range(len(bars)):\n",
    "    total = sum(bars[x])\n",
    "    for y in range(len(bars[x])):\n",
    "        bars[x][y] = bars[x][y] / total\n",
    "#set bar x coords\n",
    "r1 = np.arange(len(list(amlcountstrue.keys())))\n",
    "r2 = r1 + 0.25\n",
    "#plot bars & ticks\n",
    "plt.bar(r1, bars[0], color='green', width=barWidth, edgecolor='black', label='true')\n",
    "plt.bar(r2, bars[1], color='purple', width=barWidth, edgecolor='black', label='predicted')\n",
    "plt.xticks([r + barWidth for r in range(len(bars[0]))], list(amlcountstrue.keys()), rotation='vertical')\n",
    "plt.xlabel(\"Celltypes\")\n",
    "plt.ylabel(\"Relative frequency\")\n",
    "plt.title(\"AML\")\n",
    "plt.legend()\n",
    "plt.show()"
   ]
  },
  {
   "cell_type": "markdown",
   "metadata": {},
   "source": [
    "Draw logplot"
   ]
  },
  {
   "cell_type": "code",
   "execution_count": 13,
   "metadata": {
    "collapsed": true
   },
   "outputs": [],
   "source": [
    "#prepare logplot data\n",
    "logplotdf = pd.DataFrame(logplotF1list)\n",
    "logplotdf.columns = set(amllabels.values.ravel())\n",
    "logplotdict = dict(logplotdf.mean())\n",
    "for key in amlcountspredicted:\n",
    "    logplotdict[key] = [logplotdict[key], np.log10(amlcountspredicted[key])]\n",
    "\n",
    "\n"
   ]
  },
  {
   "cell_type": "code",
   "execution_count": 14,
   "metadata": {},
   "outputs": [
    {
     "data": {
      "image/png": "[encoded data removed]",
      "text/plain": [
       "<Figure size 1080x576 with 1 Axes>"
      ]
     },
     "metadata": {},
     "output_type": "display_data"
    }
   ],
   "source": [
    "#generate logplot\n",
    "x = [logplotdict[i][1] for i in logplotdict]\n",
    "y = [logplotdict[i][0] for i in logplotdict]\n",
    "plt.xlabel('Log10(predicted population size)')\n",
    "plt.ylabel('F1-score')\n",
    "plt.scatter(x, y, s=80)\n",
    "plt.rc('axes', axisbelow=True)\n",
    "\n",
    "plt.show()"
   ]
  },
  {
   "cell_type": "code",
   "execution_count": null,
   "metadata": {
    "collapsed": true
   },
   "outputs": [],
   "source": []
  }
 ],
 "metadata": {
  "kernelspec": {
   "display_name": "Python 3",
   "language": "python",
   "name": "python3"
  },
  "language_info": {
   "codemirror_mode": {
    "name": "ipython",
    "version": 3
   },
   "file_extension": ".py",
   "mimetype": "text/x-python",
   "name": "python",
   "nbconvert_exporter": "python",
   "pygments_lexer": "ipython3",
   "version": "3.6.3"
  }
 },
 "nbformat": 4,
 "nbformat_minor": 2
}
