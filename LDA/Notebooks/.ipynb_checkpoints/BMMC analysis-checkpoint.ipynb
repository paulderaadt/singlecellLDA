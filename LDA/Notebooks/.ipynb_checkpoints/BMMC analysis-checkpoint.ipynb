{
 "cells": [
  {
   "cell_type": "markdown",
   "metadata": {
    "collapsed": true
   },
   "source": [
    "# BMMC analysis notebook"
   ]
  },
  {
   "cell_type": "code",
   "execution_count": 16,
   "metadata": {
    "collapsed": true
   },
   "outputs": [],
   "source": [
    "import pandas as pd\n",
    "from sklearn.discriminant_analysis import LinearDiscriminantAnalysis\n",
    "import numpy as np\n",
    "from sklearn.metrics import f1_score\n",
    "import os\n",
    "from sklearn.model_selection import KFold\n",
    "from sklearn import metrics\n",
    "import matplotlib.pyplot as plt\n"
   ]
  },
  {
   "cell_type": "code",
   "execution_count": 17,
   "metadata": {
    "collapsed": true
   },
   "outputs": [],
   "source": [
    "bmmc = pd.read_csv('../Data/BMMC_benchmark.csv')"
   ]
  },
  {
   "cell_type": "markdown",
   "metadata": {},
   "source": [
    "Dropping non-gated labeled cells as in paper"
   ]
  },
  {
   "cell_type": "code",
   "execution_count": 18,
   "metadata": {},
   "outputs": [
    {
     "data": {
      "text/html": [
       "<div>\n",
       "<style scoped>\n",
       "    .dataframe tbody tr th:only-of-type {\n",
       "        vertical-align: middle;\n",
       "    }\n",
       "\n",
       "    .dataframe tbody tr th {\n",
       "        vertical-align: top;\n",
       "    }\n",
       "\n",
       "    .dataframe thead th {\n",
       "        text-align: right;\n",
       "    }\n",
       "</style>\n",
       "<table border=\"1\" class=\"dataframe\">\n",
       "  <thead>\n",
       "    <tr style=\"text-align: right;\">\n",
       "      <th></th>\n",
       "      <th>CD45</th>\n",
       "      <th>CD45RA</th>\n",
       "      <th>CD19</th>\n",
       "      <th>CD11b</th>\n",
       "      <th>CD4</th>\n",
       "      <th>CD8</th>\n",
       "      <th>CD34</th>\n",
       "      <th>CD20</th>\n",
       "      <th>CD33</th>\n",
       "      <th>CD123</th>\n",
       "      <th>CD38</th>\n",
       "      <th>CD90</th>\n",
       "      <th>CD3</th>\n",
       "    </tr>\n",
       "  </thead>\n",
       "  <tbody>\n",
       "    <tr>\n",
       "      <th>0</th>\n",
       "      <td>57.538193</td>\n",
       "      <td>12.118988</td>\n",
       "      <td>2.750747</td>\n",
       "      <td>-0.524355</td>\n",
       "      <td>4.516802</td>\n",
       "      <td>13.814429</td>\n",
       "      <td>2.783628</td>\n",
       "      <td>-0.772090</td>\n",
       "      <td>182.590073</td>\n",
       "      <td>33.992813</td>\n",
       "      <td>260.543274</td>\n",
       "      <td>15.497443</td>\n",
       "      <td>8.296851</td>\n",
       "    </tr>\n",
       "    <tr>\n",
       "      <th>1</th>\n",
       "      <td>81.632271</td>\n",
       "      <td>23.402050</td>\n",
       "      <td>1.572761</td>\n",
       "      <td>4.666382</td>\n",
       "      <td>11.255368</td>\n",
       "      <td>15.168184</td>\n",
       "      <td>-0.165119</td>\n",
       "      <td>1.473974</td>\n",
       "      <td>267.255981</td>\n",
       "      <td>11.038920</td>\n",
       "      <td>175.833466</td>\n",
       "      <td>2.175224</td>\n",
       "      <td>0.334277</td>\n",
       "    </tr>\n",
       "    <tr>\n",
       "      <th>2</th>\n",
       "      <td>21.073702</td>\n",
       "      <td>4.419225</td>\n",
       "      <td>-0.581668</td>\n",
       "      <td>0.936641</td>\n",
       "      <td>2.775233</td>\n",
       "      <td>4.676502</td>\n",
       "      <td>4.011384</td>\n",
       "      <td>11.760817</td>\n",
       "      <td>219.051987</td>\n",
       "      <td>2.290826</td>\n",
       "      <td>227.592499</td>\n",
       "      <td>0.624691</td>\n",
       "      <td>-19.434338</td>\n",
       "    </tr>\n",
       "    <tr>\n",
       "      <th>3</th>\n",
       "      <td>188.290024</td>\n",
       "      <td>0.838968</td>\n",
       "      <td>-3.417756</td>\n",
       "      <td>-0.104915</td>\n",
       "      <td>14.933697</td>\n",
       "      <td>-0.472276</td>\n",
       "      <td>9.698525</td>\n",
       "      <td>-0.141082</td>\n",
       "      <td>183.407196</td>\n",
       "      <td>31.706251</td>\n",
       "      <td>372.540466</td>\n",
       "      <td>8.751083</td>\n",
       "      <td>-5.999844</td>\n",
       "    </tr>\n",
       "    <tr>\n",
       "      <th>4</th>\n",
       "      <td>34.643852</td>\n",
       "      <td>3.886593</td>\n",
       "      <td>-0.873833</td>\n",
       "      <td>-0.212112</td>\n",
       "      <td>2.331734</td>\n",
       "      <td>11.722796</td>\n",
       "      <td>3.993211</td>\n",
       "      <td>0.698421</td>\n",
       "      <td>153.135605</td>\n",
       "      <td>11.620628</td>\n",
       "      <td>396.124969</td>\n",
       "      <td>3.380061</td>\n",
       "      <td>-3.817446</td>\n",
       "    </tr>\n",
       "  </tbody>\n",
       "</table>\n",
       "</div>"
      ],
      "text/plain": [
       "         CD45     CD45RA      CD19     CD11b        CD4        CD8      CD34  \\\n",
       "0   57.538193  12.118988  2.750747 -0.524355   4.516802  13.814429  2.783628   \n",
       "1   81.632271  23.402050  1.572761  4.666382  11.255368  15.168184 -0.165119   \n",
       "2   21.073702   4.419225 -0.581668  0.936641   2.775233   4.676502  4.011384   \n",
       "3  188.290024   0.838968 -3.417756 -0.104915  14.933697  -0.472276  9.698525   \n",
       "4   34.643852   3.886593 -0.873833 -0.212112   2.331734  11.722796  3.993211   \n",
       "\n",
       "        CD20        CD33      CD123        CD38       CD90        CD3  \n",
       "0  -0.772090  182.590073  33.992813  260.543274  15.497443   8.296851  \n",
       "1   1.473974  267.255981  11.038920  175.833466   2.175224   0.334277  \n",
       "2  11.760817  219.051987   2.290826  227.592499   0.624691 -19.434338  \n",
       "3  -0.141082  183.407196  31.706251  372.540466   8.751083  -5.999844  \n",
       "4   0.698421  153.135605  11.620628  396.124969   3.380061  -3.817446  "
      ]
     },
     "execution_count": 18,
     "metadata": {},
     "output_type": "execute_result"
    }
   ],
   "source": [
    "bmmc = bmmc.loc[bmmc['cell_type'] != 'NotGated']\n",
    "bmmclabels = pd.DataFrame(bmmc['cell_type'])\n",
    "bmmc = bmmc.drop(axis='columns', labels='cell_type')\n",
    "bmmc.reset_index()\n",
    "bmmc.head()"
   ]
  },
  {
   "cell_type": "markdown",
   "metadata": {},
   "source": [
    "arcsinh(5) transform"
   ]
  },
  {
   "cell_type": "code",
   "execution_count": 19,
   "metadata": {},
   "outputs": [
    {
     "data": {
      "text/html": [
       "<div>\n",
       "<style scoped>\n",
       "    .dataframe tbody tr th:only-of-type {\n",
       "        vertical-align: middle;\n",
       "    }\n",
       "\n",
       "    .dataframe tbody tr th {\n",
       "        vertical-align: top;\n",
       "    }\n",
       "\n",
       "    .dataframe thead th {\n",
       "        text-align: right;\n",
       "    }\n",
       "</style>\n",
       "<table border=\"1\" class=\"dataframe\">\n",
       "  <thead>\n",
       "    <tr style=\"text-align: right;\">\n",
       "      <th></th>\n",
       "      <th>CD45</th>\n",
       "      <th>CD45RA</th>\n",
       "      <th>CD19</th>\n",
       "      <th>CD11b</th>\n",
       "      <th>CD4</th>\n",
       "      <th>CD8</th>\n",
       "      <th>CD34</th>\n",
       "      <th>CD20</th>\n",
       "      <th>CD33</th>\n",
       "      <th>CD123</th>\n",
       "      <th>CD38</th>\n",
       "      <th>CD90</th>\n",
       "      <th>CD3</th>\n",
       "    </tr>\n",
       "  </thead>\n",
       "  <tbody>\n",
       "    <tr>\n",
       "      <th>0</th>\n",
       "      <td>3.120575</td>\n",
       "      <td>1.539464</td>\n",
       "      <td>0.343363</td>\n",
       "      <td>-0.300336</td>\n",
       "      <td>0.655417</td>\n",
       "      <td>1.670336</td>\n",
       "      <td>0.349563</td>\n",
       "      <td>-0.347389</td>\n",
       "      <td>4.285651</td>\n",
       "      <td>2.585692</td>\n",
       "      <td>4.642725</td>\n",
       "      <td>1.786173</td>\n",
       "      <td>1.172012</td>\n",
       "    </tr>\n",
       "    <tr>\n",
       "      <th>1</th>\n",
       "      <td>3.474568</td>\n",
       "      <td>2.205089</td>\n",
       "      <td>0.114303</td>\n",
       "      <td>0.679715</td>\n",
       "      <td>1.466246</td>\n",
       "      <td>1.764482</td>\n",
       "      <td>-0.230965</td>\n",
       "      <td>0.094653</td>\n",
       "      <td>4.668256</td>\n",
       "      <td>1.447111</td>\n",
       "      <td>4.247748</td>\n",
       "      <td>0.232933</td>\n",
       "      <td>-0.132754</td>\n",
       "    </tr>\n",
       "    <tr>\n",
       "      <th>2</th>\n",
       "      <td>2.098281</td>\n",
       "      <td>0.639382</td>\n",
       "      <td>-0.311282</td>\n",
       "      <td>-0.012672</td>\n",
       "      <td>0.347981</td>\n",
       "      <td>0.681346</td>\n",
       "      <td>0.570776</td>\n",
       "      <td>1.509685</td>\n",
       "      <td>4.468574</td>\n",
       "      <td>0.255380</td>\n",
       "      <td>4.506984</td>\n",
       "      <td>-0.074991</td>\n",
       "      <td>-2.115569</td>\n",
       "    </tr>\n",
       "    <tr>\n",
       "      <th>3</th>\n",
       "      <td>4.316546</td>\n",
       "      <td>-0.032201</td>\n",
       "      <td>-0.796591</td>\n",
       "      <td>-0.219223</td>\n",
       "      <td>1.748759</td>\n",
       "      <td>-0.290358</td>\n",
       "      <td>1.320779</td>\n",
       "      <td>-0.226280</td>\n",
       "      <td>4.290139</td>\n",
       "      <td>2.514739</td>\n",
       "      <td>5.001412</td>\n",
       "      <td>1.222299</td>\n",
       "      <td>-1.137964</td>\n",
       "    </tr>\n",
       "    <tr>\n",
       "      <th>4</th>\n",
       "      <td>2.605016</td>\n",
       "      <td>0.549279</td>\n",
       "      <td>-0.366506</td>\n",
       "      <td>-0.240109</td>\n",
       "      <td>0.263294</td>\n",
       "      <td>1.506476</td>\n",
       "      <td>0.567660</td>\n",
       "      <td>-0.060279</td>\n",
       "      <td>4.108751</td>\n",
       "      <td>1.497807</td>\n",
       "      <td>5.062951</td>\n",
       "      <td>0.459654</td>\n",
       "      <td>-0.855319</td>\n",
       "    </tr>\n",
       "  </tbody>\n",
       "</table>\n",
       "</div>"
      ],
      "text/plain": [
       "       CD45    CD45RA      CD19     CD11b       CD4       CD8      CD34  \\\n",
       "0  3.120575  1.539464  0.343363 -0.300336  0.655417  1.670336  0.349563   \n",
       "1  3.474568  2.205089  0.114303  0.679715  1.466246  1.764482 -0.230965   \n",
       "2  2.098281  0.639382 -0.311282 -0.012672  0.347981  0.681346  0.570776   \n",
       "3  4.316546 -0.032201 -0.796591 -0.219223  1.748759 -0.290358  1.320779   \n",
       "4  2.605016  0.549279 -0.366506 -0.240109  0.263294  1.506476  0.567660   \n",
       "\n",
       "       CD20      CD33     CD123      CD38      CD90       CD3  \n",
       "0 -0.347389  4.285651  2.585692  4.642725  1.786173  1.172012  \n",
       "1  0.094653  4.668256  1.447111  4.247748  0.232933 -0.132754  \n",
       "2  1.509685  4.468574  0.255380  4.506984 -0.074991 -2.115569  \n",
       "3 -0.226280  4.290139  2.514739  5.001412  1.222299 -1.137964  \n",
       "4 -0.060279  4.108751  1.497807  5.062951  0.459654 -0.855319  "
      ]
     },
     "execution_count": 19,
     "metadata": {},
     "output_type": "execute_result"
    }
   ],
   "source": [
    "bmmc = np.arcsinh((bmmc-1)/5)\n",
    "bmmc.head(5)"
   ]
  },
  {
   "cell_type": "markdown",
   "metadata": {},
   "source": [
    "Train LDA & predict labels with CV-cells (5 fold)"
   ]
  },
  {
   "cell_type": "code",
   "execution_count": 20,
   "metadata": {},
   "outputs": [
    {
     "name": "stderr",
     "output_type": "stream",
     "text": [
      "/home/paul/anaconda3/lib/python3.6/site-packages/sklearn/discriminant_analysis.py:442: UserWarning: The priors do not sum to 1. Renormalizing\n",
      "  UserWarning)\n"
     ]
    }
   ],
   "source": [
    "bmmcpredictions = []\n",
    "# random state ensures same stratification for training/predicting for eventual evaluation\n",
    "# training without shuffling data gives BAD results\n",
    "kfoldsplitter = KFold(n_splits=5, shuffle=True, random_state=1)\n",
    "for train, test in kfoldsplitter.split(bmmc):\n",
    "    classifier = LinearDiscriminantAnalysis()\n",
    "    testdata = bmmc.iloc[test].values\n",
    "    traindata = bmmc.iloc[train].values\n",
    "    trainlabels = bmmclabels.iloc[train].values.ravel()\n",
    "    #train classifier\n",
    "    classifier.fit(traindata, trainlabels)\n",
    "    #predict labels\n",
    "    prediction = classifier.predict(testdata)\n",
    "    bmmcpredictions.append(prediction)"
   ]
  },
  {
   "cell_type": "markdown",
   "metadata": {},
   "source": [
    "Evaluate BMMC performance"
   ]
  },
  {
   "cell_type": "code",
   "execution_count": 21,
   "metadata": {},
   "outputs": [
    {
     "name": "stderr",
     "output_type": "stream",
     "text": [
      "/home/paul/anaconda3/lib/python3.6/site-packages/sklearn/metrics/classification.py:1135: UndefinedMetricWarning: F-score is ill-defined and being set to 0.0 in labels with no predicted samples.\n",
      "  'precision', 'predicted', average, warn_for)\n",
      "/home/paul/anaconda3/lib/python3.6/site-packages/sklearn/metrics/classification.py:1137: UndefinedMetricWarning: F-score is ill-defined and being set to 0.0 in labels with no true samples.\n",
      "  'recall', 'true', average, warn_for)\n"
     ]
    }
   ],
   "source": [
    "F1list = []\n",
    "logplotF1list = []\n",
    "Acclist = []\n",
    "batch = 0\n",
    "for train, test in kfoldsplitter.split(bmmc):\n",
    "    #select true labels\n",
    "    true = bmmclabels.iloc[test].values.ravel()\n",
    "    #select predicted labels\n",
    "    predicted = bmmcpredictions[batch]\n",
    "    #calculate evaluation metrics\n",
    "    logplotF1list.append(metrics.f1_score(true, predicted, average=None, labels=list(set(bmmclabels.values.ravel()))))\n",
    "    Acclist.append(metrics.accuracy_score(true, predicted))\n",
    "    F1list.append(metrics.f1_score(true, predicted, average='weighted'))\n",
    "    batch += 1\n"
   ]
  },
  {
   "cell_type": "markdown",
   "metadata": {},
   "source": [
    "## Evaluation metrics\n",
    "F1 score is a lot higher than in paper, might be due to 4 classes considered unknown in paper? <br>\n",
    "Accuracy score is exactly the same\n"
   ]
  },
  {
   "cell_type": "code",
   "execution_count": 22,
   "metadata": {},
   "outputs": [
    {
     "name": "stdout",
     "output_type": "stream",
     "text": [
      "BMMC CV-cells\n",
      "Accuracy mean: 95.84\n",
      "Accuracy std: 0.07\n",
      "F1 median: 0.96\n"
     ]
    }
   ],
   "source": [
    "F1median = np.median(F1list)\n",
    "Accmean = np.mean(Acclist) * 100\n",
    "Accstd = np.std(Acclist) * 100\n",
    "print('BMMC CV-cells')\n",
    "print('Accuracy mean: %s' % round(Accmean, 2))\n",
    "print('Accuracy std: %s' % round(Accstd, 2))\n",
    "print('F1 median: %s' % round(F1median, 2))"
   ]
  },
  {
   "cell_type": "markdown",
   "metadata": {},
   "source": [
    "F1list from which F1 median is drawn"
   ]
  },
  {
   "cell_type": "code",
   "execution_count": 23,
   "metadata": {},
   "outputs": [
    {
     "data": {
      "text/plain": [
       "[0.9574364602186187,\n",
       " 0.9577263187328029,\n",
       " 0.9580880041617237,\n",
       " 0.959401449436518,\n",
       " 0.9583463404673992]"
      ]
     },
     "execution_count": 23,
     "metadata": {},
     "output_type": "execute_result"
    }
   ],
   "source": [
    "F1list"
   ]
  },
  {
   "cell_type": "markdown",
   "metadata": {},
   "source": [
    "Correct way to calculate median F1"
   ]
  },
  {
   "cell_type": "code",
   "execution_count": 37,
   "metadata": {},
   "outputs": [
    {
     "name": "stdout",
     "output_type": "stream",
     "text": [
      "correct F1 median:\n"
     ]
    },
    {
     "data": {
      "text/plain": [
       "0.8518299881337683"
      ]
     },
     "execution_count": 37,
     "metadata": {},
     "output_type": "execute_result"
    }
   ],
   "source": [
    "print('correct F1 median:')\n",
    "np.median(np.sum(logplotF1list, axis=0)/5)"
   ]
  },
  {
   "cell_type": "code",
   "execution_count": 25,
   "metadata": {
    "collapsed": true
   },
   "outputs": [],
   "source": [
    "#Prepare barplot data\n",
    "bmmcpredictions = np.hstack(bmmcpredictions)\n",
    "unique, counts = np.unique(bmmcpredictions, return_counts=True)\n",
    "bmmccountspredicted = dict(zip(unique, counts))\n",
    "unique, counts = np.unique(bmmclabels['cell_type'], return_counts=True)\n",
    "bmmccountstrue = dict(zip(unique, counts))\n",
    "bmmccountspredicted['Platelet'] = 0"
   ]
  },
  {
   "cell_type": "code",
   "execution_count": 27,
   "metadata": {
    "collapsed": true
   },
   "outputs": [],
   "source": [
    "plt.rcParams['figure.figsize'] = [15, 8]"
   ]
  },
  {
   "cell_type": "code",
   "execution_count": 28,
   "metadata": {},
   "outputs": [
    {
     "data": {
      "image/png": "[encoded data removed]",
      "text/plain": [
       "<Figure size 1080x576 with 1 Axes>"
      ]
     },
     "metadata": {},
     "output_type": "display_data"
    }
   ],
   "source": [
    "#barplot\n",
    "barWidth = 0.25\n",
    "# set height of bars\n",
    "bars = [[dictionary[key] for key in dictionary] for dictionary in [bmmccountstrue, bmmccountspredicted]]\n",
    "for x in range(len(bars)):\n",
    "    total = sum(bars[x])\n",
    "    for y in range(len(bars[x])):\n",
    "        bars[x][y] = bars[x][y] / total\n",
    "#set bar x coords\n",
    "r1 = np.arange(len(list(bmmccountstrue.keys())))\n",
    "r2 = r1 + 0.25\n",
    "#plot bars & ticks\n",
    "plt.bar(r1, bars[0], color='green', width=barWidth, edgecolor='black', label='true')\n",
    "plt.bar(r2, bars[1], color='purple', width=barWidth, edgecolor='black', label='predicted')\n",
    "plt.xticks([r + barWidth for r in range(len(bars[0]))], list(bmmccountstrue.keys()), rotation='vertical')\n",
    "plt.xlabel(\"Celltypes\")\n",
    "plt.ylabel(\"Relative frequency\")\n",
    "plt.title(\"BMMC\")\n",
    "plt.legend()\n",
    "plt.show()"
   ]
  },
  {
   "cell_type": "code",
   "execution_count": 29,
   "metadata": {},
   "outputs": [
    {
     "name": "stderr",
     "output_type": "stream",
     "text": [
      "/home/paul/anaconda3/lib/python3.6/site-packages/ipykernel_launcher.py:6: RuntimeWarning: divide by zero encountered in log10\n",
      "  \n"
     ]
    }
   ],
   "source": [
    "#prepare logplot data\n",
    "logplotdf = pd.DataFrame(logplotF1list)\n",
    "logplotdf.columns = set(bmmclabels.values.ravel())\n",
    "logplotdict = dict(logplotdf.mean())\n",
    "for key in bmmccountspredicted:\n",
    "    logplotdict[key] = [logplotdict[key], np.log10(bmmccountspredicted[key])]\n",
    "logplotdict['Platelet'][1] = 0\n",
    "\n"
   ]
  },
  {
   "cell_type": "code",
   "execution_count": 30,
   "metadata": {},
   "outputs": [
    {
     "data": {
      "image/png": "[encoded data removed]",
      "text/plain": [
       "<Figure size 1080x576 with 1 Axes>"
      ]
     },
     "metadata": {},
     "output_type": "display_data"
    }
   ],
   "source": [
    "#generate logplot\n",
    "x = [logplotdict[i][1] for i in logplotdict]\n",
    "y = [logplotdict[i][0] for i in logplotdict]\n",
    "plt.xlabel('Log10(predicted population size)')\n",
    "plt.ylabel('F1-score')\n",
    "plt.scatter(x, y, s=80)\n",
    "plt.rc('axes', axisbelow=True)\n",
    "\n",
    "plt.show()"
   ]
  }
 ],
 "metadata": {
  "kernelspec": {
   "display_name": "Python 3",
   "language": "python",
   "name": "python3"
  },
  "language_info": {
   "codemirror_mode": {
    "name": "ipython",
    "version": 3
   },
   "file_extension": ".py",
   "mimetype": "text/x-python",
   "name": "python",
   "nbconvert_exporter": "python",
   "pygments_lexer": "ipython3",
   "version": "3.6.3"
  }
 },
 "nbformat": 4,
 "nbformat_minor": 2
}
