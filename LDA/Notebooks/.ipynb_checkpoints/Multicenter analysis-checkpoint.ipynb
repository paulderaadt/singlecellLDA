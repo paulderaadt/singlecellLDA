{
 "cells": [
  {
   "cell_type": "markdown",
   "metadata": {},
   "source": [
    "# Data exploration of CyTOF sets"
   ]
  },
  {
   "cell_type": "code",
   "execution_count": 1,
   "metadata": {
    "collapsed": true
   },
   "outputs": [],
   "source": [
    "import pandas as pd\n",
    "from sklearn.discriminant_analysis import LinearDiscriminantAnalysis\n",
    "import numpy as np\n",
    "from sklearn.metrics import f1_score\n",
    "import os\n",
    "from sklearn import metrics\n",
    "import matplotlib.pyplot as plt\n",
    "from matplotlib.pyplot import figure\n",
    "from sklearn.model_selection import KFold\n",
    "import collections"
   ]
  },
  {
   "cell_type": "markdown",
   "metadata": {},
   "source": [
    "## Sample of data"
   ]
  },
  {
   "cell_type": "code",
   "execution_count": 2,
   "metadata": {},
   "outputs": [
    {
     "data": {
      "text/html": [
       "<div>\n",
       "<style scoped>\n",
       "    .dataframe tbody tr th:only-of-type {\n",
       "        vertical-align: middle;\n",
       "    }\n",
       "\n",
       "    .dataframe tbody tr th {\n",
       "        vertical-align: top;\n",
       "    }\n",
       "\n",
       "    .dataframe thead th {\n",
       "        text-align: right;\n",
       "    }\n",
       "</style>\n",
       "<table border=\"1\" class=\"dataframe\">\n",
       "  <thead>\n",
       "    <tr style=\"text-align: right;\">\n",
       "      <th></th>\n",
       "      <th>CCR6</th>\n",
       "      <th>CD19</th>\n",
       "      <th>C-KIT</th>\n",
       "      <th>CD11b</th>\n",
       "      <th>CD4</th>\n",
       "      <th>CD8a</th>\n",
       "      <th>CD7</th>\n",
       "      <th>CD25</th>\n",
       "      <th>CD123</th>\n",
       "      <th>TCRgd</th>\n",
       "      <th>...</th>\n",
       "      <th>CD8b</th>\n",
       "      <th>CD27</th>\n",
       "      <th>IL-15Ra</th>\n",
       "      <th>CD45RA</th>\n",
       "      <th>CD3</th>\n",
       "      <th>CD28</th>\n",
       "      <th>CD38</th>\n",
       "      <th>NKp46</th>\n",
       "      <th>PD-1</th>\n",
       "      <th>CD56</th>\n",
       "    </tr>\n",
       "  </thead>\n",
       "  <tbody>\n",
       "    <tr>\n",
       "      <th>0</th>\n",
       "      <td>0.00000</td>\n",
       "      <td>1.085600</td>\n",
       "      <td>0.00000</td>\n",
       "      <td>0.74139</td>\n",
       "      <td>0.00000</td>\n",
       "      <td>3.36620</td>\n",
       "      <td>4.44010</td>\n",
       "      <td>0.000000</td>\n",
       "      <td>0.000000</td>\n",
       "      <td>2.18260</td>\n",
       "      <td>...</td>\n",
       "      <td>0.0000</td>\n",
       "      <td>1.3079</td>\n",
       "      <td>0.00000</td>\n",
       "      <td>4.30830</td>\n",
       "      <td>0.875990</td>\n",
       "      <td>1.45540</td>\n",
       "      <td>5.1563</td>\n",
       "      <td>1.780700</td>\n",
       "      <td>0.00000</td>\n",
       "      <td>3.89030</td>\n",
       "    </tr>\n",
       "    <tr>\n",
       "      <th>1</th>\n",
       "      <td>0.00000</td>\n",
       "      <td>0.000000</td>\n",
       "      <td>0.01100</td>\n",
       "      <td>0.00000</td>\n",
       "      <td>4.10050</td>\n",
       "      <td>0.70986</td>\n",
       "      <td>3.43200</td>\n",
       "      <td>0.575670</td>\n",
       "      <td>0.006000</td>\n",
       "      <td>2.16630</td>\n",
       "      <td>...</td>\n",
       "      <td>0.0000</td>\n",
       "      <td>4.2390</td>\n",
       "      <td>0.00000</td>\n",
       "      <td>3.18660</td>\n",
       "      <td>4.679200</td>\n",
       "      <td>2.43820</td>\n",
       "      <td>2.1834</td>\n",
       "      <td>0.000000</td>\n",
       "      <td>0.00000</td>\n",
       "      <td>0.83889</td>\n",
       "    </tr>\n",
       "    <tr>\n",
       "      <th>2</th>\n",
       "      <td>0.00000</td>\n",
       "      <td>0.718080</td>\n",
       "      <td>0.00000</td>\n",
       "      <td>1.02720</td>\n",
       "      <td>4.46690</td>\n",
       "      <td>1.78540</td>\n",
       "      <td>4.58310</td>\n",
       "      <td>1.251000</td>\n",
       "      <td>0.000000</td>\n",
       "      <td>1.95560</td>\n",
       "      <td>...</td>\n",
       "      <td>1.0206</td>\n",
       "      <td>4.1595</td>\n",
       "      <td>0.87585</td>\n",
       "      <td>3.67660</td>\n",
       "      <td>4.843400</td>\n",
       "      <td>2.51750</td>\n",
       "      <td>5.1084</td>\n",
       "      <td>0.360730</td>\n",
       "      <td>0.00000</td>\n",
       "      <td>0.13717</td>\n",
       "    </tr>\n",
       "    <tr>\n",
       "      <th>3</th>\n",
       "      <td>2.62200</td>\n",
       "      <td>0.000000</td>\n",
       "      <td>0.00000</td>\n",
       "      <td>0.00000</td>\n",
       "      <td>0.50629</td>\n",
       "      <td>0.00000</td>\n",
       "      <td>0.00000</td>\n",
       "      <td>0.000000</td>\n",
       "      <td>0.086891</td>\n",
       "      <td>2.00060</td>\n",
       "      <td>...</td>\n",
       "      <td>1.5498</td>\n",
       "      <td>0.0000</td>\n",
       "      <td>0.00000</td>\n",
       "      <td>3.96750</td>\n",
       "      <td>0.470450</td>\n",
       "      <td>0.00000</td>\n",
       "      <td>2.5044</td>\n",
       "      <td>0.000000</td>\n",
       "      <td>0.00000</td>\n",
       "      <td>0.00000</td>\n",
       "    </tr>\n",
       "    <tr>\n",
       "      <th>4</th>\n",
       "      <td>1.55330</td>\n",
       "      <td>0.000000</td>\n",
       "      <td>0.00000</td>\n",
       "      <td>0.51423</td>\n",
       "      <td>0.00000</td>\n",
       "      <td>3.39030</td>\n",
       "      <td>5.61950</td>\n",
       "      <td>0.017399</td>\n",
       "      <td>0.000000</td>\n",
       "      <td>1.26040</td>\n",
       "      <td>...</td>\n",
       "      <td>1.3466</td>\n",
       "      <td>4.6891</td>\n",
       "      <td>0.54675</td>\n",
       "      <td>2.45160</td>\n",
       "      <td>0.055771</td>\n",
       "      <td>0.49921</td>\n",
       "      <td>4.9283</td>\n",
       "      <td>4.339900</td>\n",
       "      <td>0.00000</td>\n",
       "      <td>5.88430</td>\n",
       "    </tr>\n",
       "    <tr>\n",
       "      <th>5</th>\n",
       "      <td>0.00000</td>\n",
       "      <td>0.895450</td>\n",
       "      <td>0.52039</td>\n",
       "      <td>0.87272</td>\n",
       "      <td>4.63860</td>\n",
       "      <td>2.14740</td>\n",
       "      <td>2.46940</td>\n",
       "      <td>2.393000</td>\n",
       "      <td>0.000000</td>\n",
       "      <td>0.85497</td>\n",
       "      <td>...</td>\n",
       "      <td>0.0000</td>\n",
       "      <td>3.1459</td>\n",
       "      <td>0.49494</td>\n",
       "      <td>0.41278</td>\n",
       "      <td>3.770400</td>\n",
       "      <td>2.95100</td>\n",
       "      <td>0.0000</td>\n",
       "      <td>0.000000</td>\n",
       "      <td>2.51320</td>\n",
       "      <td>0.00000</td>\n",
       "    </tr>\n",
       "    <tr>\n",
       "      <th>6</th>\n",
       "      <td>0.49850</td>\n",
       "      <td>0.000000</td>\n",
       "      <td>0.00000</td>\n",
       "      <td>4.21490</td>\n",
       "      <td>2.40460</td>\n",
       "      <td>0.79798</td>\n",
       "      <td>0.00000</td>\n",
       "      <td>0.000000</td>\n",
       "      <td>0.060363</td>\n",
       "      <td>0.00000</td>\n",
       "      <td>...</td>\n",
       "      <td>0.0000</td>\n",
       "      <td>0.0000</td>\n",
       "      <td>0.00000</td>\n",
       "      <td>2.28000</td>\n",
       "      <td>0.000000</td>\n",
       "      <td>0.00000</td>\n",
       "      <td>4.7208</td>\n",
       "      <td>0.272800</td>\n",
       "      <td>0.00000</td>\n",
       "      <td>0.79212</td>\n",
       "    </tr>\n",
       "    <tr>\n",
       "      <th>7</th>\n",
       "      <td>0.79122</td>\n",
       "      <td>0.000000</td>\n",
       "      <td>0.00000</td>\n",
       "      <td>0.00000</td>\n",
       "      <td>4.57960</td>\n",
       "      <td>0.29069</td>\n",
       "      <td>4.08020</td>\n",
       "      <td>0.022798</td>\n",
       "      <td>0.000000</td>\n",
       "      <td>1.27990</td>\n",
       "      <td>...</td>\n",
       "      <td>1.4529</td>\n",
       "      <td>4.4697</td>\n",
       "      <td>2.49790</td>\n",
       "      <td>3.83380</td>\n",
       "      <td>4.024800</td>\n",
       "      <td>1.98380</td>\n",
       "      <td>2.9021</td>\n",
       "      <td>0.000000</td>\n",
       "      <td>0.00000</td>\n",
       "      <td>0.00000</td>\n",
       "    </tr>\n",
       "    <tr>\n",
       "      <th>8</th>\n",
       "      <td>0.00000</td>\n",
       "      <td>0.053175</td>\n",
       "      <td>0.21142</td>\n",
       "      <td>0.00000</td>\n",
       "      <td>4.64890</td>\n",
       "      <td>1.16870</td>\n",
       "      <td>4.19110</td>\n",
       "      <td>0.796630</td>\n",
       "      <td>1.099400</td>\n",
       "      <td>0.71934</td>\n",
       "      <td>...</td>\n",
       "      <td>1.2473</td>\n",
       "      <td>4.3725</td>\n",
       "      <td>2.71460</td>\n",
       "      <td>3.92080</td>\n",
       "      <td>5.332100</td>\n",
       "      <td>2.99210</td>\n",
       "      <td>3.1731</td>\n",
       "      <td>0.036992</td>\n",
       "      <td>0.50133</td>\n",
       "      <td>0.00000</td>\n",
       "    </tr>\n",
       "    <tr>\n",
       "      <th>9</th>\n",
       "      <td>2.09870</td>\n",
       "      <td>0.000000</td>\n",
       "      <td>0.00000</td>\n",
       "      <td>0.44279</td>\n",
       "      <td>0.00000</td>\n",
       "      <td>0.00000</td>\n",
       "      <td>0.14192</td>\n",
       "      <td>0.000000</td>\n",
       "      <td>1.062000</td>\n",
       "      <td>1.65130</td>\n",
       "      <td>...</td>\n",
       "      <td>0.0000</td>\n",
       "      <td>1.1142</td>\n",
       "      <td>0.00000</td>\n",
       "      <td>4.55620</td>\n",
       "      <td>2.621100</td>\n",
       "      <td>0.66133</td>\n",
       "      <td>1.7915</td>\n",
       "      <td>0.000000</td>\n",
       "      <td>0.00000</td>\n",
       "      <td>0.00000</td>\n",
       "    </tr>\n",
       "  </tbody>\n",
       "</table>\n",
       "<p>10 rows × 28 columns</p>\n",
       "</div>"
      ],
      "text/plain": [
       "      CCR6      CD19    C-KIT    CD11b      CD4     CD8a      CD7      CD25  \\\n",
       "0  0.00000  1.085600  0.00000  0.74139  0.00000  3.36620  4.44010  0.000000   \n",
       "1  0.00000  0.000000  0.01100  0.00000  4.10050  0.70986  3.43200  0.575670   \n",
       "2  0.00000  0.718080  0.00000  1.02720  4.46690  1.78540  4.58310  1.251000   \n",
       "3  2.62200  0.000000  0.00000  0.00000  0.50629  0.00000  0.00000  0.000000   \n",
       "4  1.55330  0.000000  0.00000  0.51423  0.00000  3.39030  5.61950  0.017399   \n",
       "5  0.00000  0.895450  0.52039  0.87272  4.63860  2.14740  2.46940  2.393000   \n",
       "6  0.49850  0.000000  0.00000  4.21490  2.40460  0.79798  0.00000  0.000000   \n",
       "7  0.79122  0.000000  0.00000  0.00000  4.57960  0.29069  4.08020  0.022798   \n",
       "8  0.00000  0.053175  0.21142  0.00000  4.64890  1.16870  4.19110  0.796630   \n",
       "9  2.09870  0.000000  0.00000  0.44279  0.00000  0.00000  0.14192  0.000000   \n",
       "\n",
       "      CD123    TCRgd   ...       CD8b    CD27  IL-15Ra   CD45RA       CD3  \\\n",
       "0  0.000000  2.18260   ...     0.0000  1.3079  0.00000  4.30830  0.875990   \n",
       "1  0.006000  2.16630   ...     0.0000  4.2390  0.00000  3.18660  4.679200   \n",
       "2  0.000000  1.95560   ...     1.0206  4.1595  0.87585  3.67660  4.843400   \n",
       "3  0.086891  2.00060   ...     1.5498  0.0000  0.00000  3.96750  0.470450   \n",
       "4  0.000000  1.26040   ...     1.3466  4.6891  0.54675  2.45160  0.055771   \n",
       "5  0.000000  0.85497   ...     0.0000  3.1459  0.49494  0.41278  3.770400   \n",
       "6  0.060363  0.00000   ...     0.0000  0.0000  0.00000  2.28000  0.000000   \n",
       "7  0.000000  1.27990   ...     1.4529  4.4697  2.49790  3.83380  4.024800   \n",
       "8  1.099400  0.71934   ...     1.2473  4.3725  2.71460  3.92080  5.332100   \n",
       "9  1.062000  1.65130   ...     0.0000  1.1142  0.00000  4.55620  2.621100   \n",
       "\n",
       "      CD28    CD38     NKp46     PD-1     CD56  \n",
       "0  1.45540  5.1563  1.780700  0.00000  3.89030  \n",
       "1  2.43820  2.1834  0.000000  0.00000  0.83889  \n",
       "2  2.51750  5.1084  0.360730  0.00000  0.13717  \n",
       "3  0.00000  2.5044  0.000000  0.00000  0.00000  \n",
       "4  0.49921  4.9283  4.339900  0.00000  5.88430  \n",
       "5  2.95100  0.0000  0.000000  2.51320  0.00000  \n",
       "6  0.00000  4.7208  0.272800  0.00000  0.79212  \n",
       "7  1.98380  2.9021  0.000000  0.00000  0.00000  \n",
       "8  2.99210  3.1731  0.036992  0.50133  0.00000  \n",
       "9  0.66133  1.7915  0.000000  0.00000  0.00000  \n",
       "\n",
       "[10 rows x 28 columns]"
      ]
     },
     "execution_count": 2,
     "metadata": {},
     "output_type": "execute_result"
    }
   ],
   "source": [
    "sample = pd.read_csv(\"../Data/HMIS-2/Samples/Samples01_CeD.csv\", header=None)\n",
    "markers = ['CCR6','CD19','C-KIT','CD11b','CD4','CD8a','CD7','CD25','CD123','TCRgd','CD45',\n",
    "           'CRTH2','CD122','CCR7','CD14','CD11c','CD161','CD127','CD8b','CD27','IL-15Ra','CD45RA',\n",
    "           'CD3','CD28','CD38','NKp46','PD-1','CD56']\n",
    "sample.columns = markers\n",
    "sample.head(10)"
   ]
  },
  {
   "cell_type": "code",
   "execution_count": 3,
   "metadata": {
    "collapsed": true
   },
   "outputs": [],
   "source": [
    "#Declare variables for data acquisition from CSV results\n",
    "labelfiles = os.listdir(\"../Data/HMIS-2/Labels/\")\n",
    "samplefiles = os.listdir(\"../Data/HMIS-2/Samples/\")\n",
    "labelfiles.sort()\n",
    "samplefiles.sort()\n",
    "F1list = []\n",
    "Acclist = []\n",
    "predictfiles = os.listdir(\"../Results/Predictions/HMIS-2 LDA/CV-sample\")\n",
    "predictfiles.sort()\n",
    "truedict = collections.OrderedDict()\n",
    "preddict = collections.OrderedDict()"
   ]
  },
  {
   "cell_type": "code",
   "execution_count": 21,
   "metadata": {},
   "outputs": [
    {
     "name": "stderr",
     "output_type": "stream",
     "text": [
      "/home/paul/anaconda3/lib/python3.6/site-packages/sklearn/metrics/classification.py:1135: UndefinedMetricWarning: F-score is ill-defined and being set to 0.0 in labels with no predicted samples.\n",
      "  'precision', 'predicted', average, warn_for)\n",
      "/home/paul/anaconda3/lib/python3.6/site-packages/sklearn/metrics/classification.py:1137: UndefinedMetricWarning: F-score is ill-defined and being set to 0.0 in labels with no true samples.\n",
      "  'recall', 'true', average, warn_for)\n"
     ]
    }
   ],
   "source": [
    "#Data acquisition from CSV results\n",
    "\n",
    "for i in range(len(samplefiles)):\n",
    "    #Calculate F1 & accuracy scores for each prediciton\n",
    "    true = list(pd.read_csv(\"../Data/HMIS-2/Labels/\" + labelfiles[i], header=None, engine='python').values.ravel())\n",
    "    predicted = list(pd.read_csv(\"../Results/Predictions/HMIS-2 LDA/CV-sample/\" + predictfiles[i], header=None, engine='python').values.ravel())\n",
    "    F1list.append(metrics.f1_score(y_true=true, y_pred=predicted, average='weighted'))\n",
    "    Acclist.append(metrics.accuracy_score(true, predicted))\n",
    "    #Calculate counts of all original labels\n",
    "    unique, counts = np.unique(true, return_counts=True)\n",
    "    temp = dict(zip(unique, counts))\n",
    "    for celltype in temp:\n",
    "        try:\n",
    "            truedict[celltype] += temp[celltype]\n",
    "        except KeyError:\n",
    "            truedict[celltype] = temp[celltype]\n",
    "    #Calculate counts of all predicted labels\n",
    "    unique, counts = np.unique(predicted, return_counts=True)\n",
    "    temp = dict(zip(unique, counts))\n",
    "    for celltype in temp:\n",
    "        try:\n",
    "            preddict[celltype] += temp[celltype]\n",
    "        except KeyError:\n",
    "            preddict[celltype] = temp[celltype]"
   ]
  },
  {
   "cell_type": "markdown",
   "metadata": {},
   "source": [
    "## CV-sample stats"
   ]
  },
  {
   "cell_type": "code",
   "execution_count": 5,
   "metadata": {},
   "outputs": [
    {
     "name": "stdout",
     "output_type": "stream",
     "text": [
      "Number of cell predictions made: 3550010\n",
      "Original number of true labels: 3550010\n"
     ]
    }
   ],
   "source": [
    "instancecount =0\n",
    "for key in preddict:\n",
    "    instancecount += truedict[key]\n",
    "print('Number of cell predictions made: %i' % instancecount)\n",
    "instancecount =0\n",
    "for key in preddict:\n",
    "    instancecount += truedict[key]\n",
    "print('Original number of true labels: %i' % instancecount)\n",
    "preddict[\"Others 07\"] = 0"
   ]
  },
  {
   "cell_type": "code",
   "execution_count": 6,
   "metadata": {},
   "outputs": [
    {
     "data": {
      "image/png": "[encoded data removed]",
      "text/plain": [
       "<Figure size 1440x576 with 1 Axes>"
      ]
     },
     "metadata": {},
     "output_type": "display_data"
    }
   ],
   "source": [
    "#increase plotsize\n",
    "plt.rcParams['figure.figsize'] = [20, 8]\n",
    "# set width of bars\n",
    "barWidth = 0.25\n",
    "# set height of bars\n",
    "truedict = collections.OrderedDict(sorted(truedict.items()))\n",
    "preddict = collections.OrderedDict(sorted(preddict.items()))\n",
    "bars = [[dictionary[key] for key in dictionary] for dictionary in [truedict, preddict]]\n",
    "for x in range(len(bars)):\n",
    "    total = sum(bars[x])\n",
    "    for y in range(len(bars[x])):\n",
    "        bars[x][y] = bars[x][y] / total\n",
    "#set bar x coords\n",
    "r1 = np.arange(58)\n",
    "r2 = r1 + 0.25\n",
    "#plot bars & ticks\n",
    "plt.bar(r1, bars[0], color='green', width=barWidth, edgecolor='black', label='true')\n",
    "plt.bar(r2, bars[1], color='purple', width=barWidth, edgecolor='black', label='predicted')\n",
    "plt.xticks([r + barWidth for r in range(len(bars[0]))], truedict.keys(), rotation='vertical' )\n",
    "plt.legend()\n",
    "plt.show()"
   ]
  },
  {
   "cell_type": "code",
   "execution_count": 7,
   "metadata": {},
   "outputs": [
    {
     "data": {
      "text/plain": [
       "OrderedDict([('B Cells 01', 73903),\n",
       "             ('B Cells 02', 22862),\n",
       "             ('B Cells 03', 25644),\n",
       "             ('B Cells 05', 209299),\n",
       "             ('B Cells 06', 9102),\n",
       "             ('B Cells 12', 33763),\n",
       "             ('B Cells 14', 11603),\n",
       "             ('B Cells 16', 8176),\n",
       "             ('B Cells 19', 44582),\n",
       "             ('B Cells 21', 10554),\n",
       "             ('B Cells 23', 46159),\n",
       "             ('CD4 T 01', 890499),\n",
       "             ('CD4 T 06', 224494),\n",
       "             ('CD4 T 08', 30838),\n",
       "             ('CD4 T 11', 22260),\n",
       "             ('CD4 T 12', 85870),\n",
       "             ('CD4 T 14', 133312),\n",
       "             ('CD4 T 15', 51065),\n",
       "             ('CD4 T 16', 42786),\n",
       "             ('CD4 T 17', 46924),\n",
       "             ('CD4 T 18', 40681),\n",
       "             ('CD4 T 19', 17612),\n",
       "             ('CD8 T 01', 332580),\n",
       "             ('CD8 T 04', 44171),\n",
       "             ('CD8 T 05', 96553),\n",
       "             ('CD8 T 06', 38149),\n",
       "             ('CD8 T 07', 48636),\n",
       "             ('CD8 T 08', 43327),\n",
       "             ('CD8 T 10', 19573),\n",
       "             ('CD8 T 14', 101736),\n",
       "             ('CD8 T 17', 27802),\n",
       "             ('Discard', 23240),\n",
       "             ('ILCs 01', 15141),\n",
       "             ('ILCs 02', 47707),\n",
       "             ('ILCs 03', 13636),\n",
       "             ('ILCs 04', 26767),\n",
       "             ('ILCs 09', 59600),\n",
       "             ('ILCs 10', 8090),\n",
       "             ('ILCs 11', 21292),\n",
       "             ('ILCs 16', 54727),\n",
       "             ('ILCs 18', 24980),\n",
       "             ('ILCs 19', 31248),\n",
       "             ('ILCs 28', 10738),\n",
       "             ('Myeloid 03', 122785),\n",
       "             ('Myeloid 10', 51190),\n",
       "             ('Myeloid 17', 13319),\n",
       "             ('Myeloid 19', 15413),\n",
       "             ('Myeloid 20', 4068),\n",
       "             ('Myeloid 21', 14396),\n",
       "             ('Others 01', 6945),\n",
       "             ('Others 02', 7630),\n",
       "             ('Others 04', 20507),\n",
       "             ('Others 07', 3586),\n",
       "             ('Others 11', 7280),\n",
       "             ('TCRgd 01', 14408),\n",
       "             ('TCRgd 02', 65611),\n",
       "             ('TCRgd 03', 23023),\n",
       "             ('TCRgd 04', 11754)])"
      ]
     },
     "execution_count": 7,
     "metadata": {},
     "output_type": "execute_result"
    }
   ],
   "source": [
    "truedict = collections.OrderedDict(sorted(truedict.items()))\n"
   ]
  },
  {
   "cell_type": "code",
   "execution_count": 8,
   "metadata": {},
   "outputs": [
    {
     "name": "stdout",
     "output_type": "stream",
     "text": [
      "HMIS-2 CV-samples\n",
      "Accuracy mean: 83.02\n",
      "Accuracy std: 6.03\n",
      "F1 median: 0.84\n"
     ]
    }
   ],
   "source": [
    "F1median = np.median(F1list)\n",
    "Accmean = np.mean(Acclist) * 100\n",
    "Accstd = np.std(Acclist) * 100\n",
    "print('HMIS-2 CV-samples')\n",
    "print('Accuracy mean: %s' % round(Accmean, 2))\n",
    "print('Accuracy std: %s' % round(Accstd, 2))\n",
    "print('F1 median: %s' % round(F1median, 2))"
   ]
  },
  {
   "cell_type": "markdown",
   "metadata": {},
   "source": [
    "## CV-cells stats"
   ]
  },
  {
   "cell_type": "code",
   "execution_count": 9,
   "metadata": {
    "collapsed": true
   },
   "outputs": [],
   "source": [
    "#Load all labels for 5-cold CV performance\n",
    "predictlabels = pd.DataFrame()\n",
    "truelabels = pd.DataFrame()\n",
    "\n",
    "for batch in range(1, 6):\n",
    "    predictlabels = predictlabels.append(pd.read_csv(\"../Results/Predictions/HMIS-2 LDA/CV-cells/\" + 'predict_batch_' + str(batch) +'.csv',\n",
    "                                          header=None, engine='python'))\n",
    "for filename in labelfiles:\n",
    "    truelabels = truelabels.append(pd.read_csv(\"../Data/HMIS-2/Labels/\" + filename, header=None))\n",
    "\n"
   ]
  },
  {
   "cell_type": "markdown",
   "metadata": {},
   "source": [
    "## Calculate accuracies and F1 scores for 5 fold"
   ]
  },
  {
   "cell_type": "code",
   "execution_count": 10,
   "metadata": {
    "collapsed": true
   },
   "outputs": [],
   "source": [
    "F1list  = []\n",
    "Acclist = []\n",
    "\n",
    "kfoldsplitter = KFold(n_splits=5, shuffle=True, random_state=1)\n",
    "for train, test in kfoldsplitter.split(predictlabels):\n",
    "    true = truelabels.iloc[test].values.ravel()\n",
    "    pred = predictlabels.iloc[test].values.ravel()\n",
    "    F1list.append(metrics.f1_score(true, pred, average='weighted'))\n",
    "    Acclist.append(metrics.accuracy_score(true, pred))"
   ]
  },
  {
   "cell_type": "code",
   "execution_count": 11,
   "metadata": {},
   "outputs": [
    {
     "name": "stdout",
     "output_type": "stream",
     "text": [
      "HMIS-2 CV-cells\n",
      "Accuracy mean: 85.92\n",
      "Accuracy std: 0.04\n",
      "F1 median: 0.86\n"
     ]
    }
   ],
   "source": [
    "F1median = np.median(F1list)\n",
    "Accmean = np.mean(Acclist) * 100\n",
    "Accstd = np.std(Acclist) * 100\n",
    "print('HMIS-2 CV-cells')\n",
    "print('Accuracy mean: %s' % round(Accmean, 2))\n",
    "print('Accuracy std: %s' % round(Accstd, 2))\n",
    "print('F1 median: %s' % round(F1median, 2))"
   ]
  },
  {
   "cell_type": "code",
   "execution_count": 12,
   "metadata": {
    "collapsed": true
   },
   "outputs": [],
   "source": [
    "\n",
    "conmat = metrics.confusion_matrix(y_true=truelabels, y_pred=predictlabels)\n",
    "conmat =  conmat / conmat.astype(np.float).sum(axis=0)\n"
   ]
  },
  {
   "cell_type": "code",
   "execution_count": 13,
   "metadata": {},
   "outputs": [
    {
     "data": {
      "text/plain": [
       "9023"
      ]
     },
     "execution_count": 13,
     "metadata": {},
     "output_type": "execute_result"
    }
   ],
   "source": [
    "truedict.pop(\"Discard\")\n",
    "preddict.pop(\"Discard\")"
   ]
  },
  {
   "cell_type": "code",
   "execution_count": 15,
   "metadata": {},
   "outputs": [
    {
     "data": {
      "image/png": "[encoded data removed]",
      "text/plain": [
       "<Figure size 1440x576 with 2 Axes>"
      ]
     },
     "metadata": {},
     "output_type": "display_data"
    }
   ],
   "source": [
    "plt.xticks([r + 1 for r in range(len(truedict.keys()))], truedict.keys(), rotation='vertical' )\n",
    "plt.yticks([r + 1 for r in range(len(truedict.keys()))], truedict.keys(), rotation=0 )\n",
    "plt.imshow(conmat, cmap=cmap)\n",
    "cmap=plt.cm.Blues\n",
    "cb = plt.pcolormesh(conmat, cmap=cmap)\n",
    "cbar = plt.colorbar(cb)\n",
    "cbar.set_label(\"Normalized confusion matrix values\")\n",
    "plt.draw()\n",
    "plt.show()"
   ]
  },
  {
   "cell_type": "code",
   "execution_count": 48,
   "metadata": {},
   "outputs": [
    {
     "name": "stdout",
     "output_type": "stream",
     "text": [
      "Labels01.csv predict_Samples01_CeD.csv\n",
      "Labels02.csv predict_Samples02_CeD.csv\n",
      "Labels03.csv predict_Samples03_CeD.csv\n",
      "Labels04.csv predict_Samples04_CeD.csv\n",
      "Labels05.csv predict_Samples05_Ctrl.csv\n",
      "Labels06.csv predict_Samples06_Ctrl.csv\n",
      "Labels07.csv predict_Samples07_Ctrl.csv\n",
      "Labels08.csv predict_Samples08_Ctrl.csv\n",
      "Labels09.csv predict_Samples09_Ctrl.csv\n",
      "Labels10.csv predict_Samples10_Ctrl.csv\n",
      "Labels11.csv predict_Samples11_Ctrl.csv\n",
      "Labels12.csv predict_Samples12_CeD.csv\n",
      "Labels13.csv predict_Samples13_CeD.csv\n",
      "Labels14.csv predict_Samples14_CeD.csv\n",
      "Labels15.csv predict_Samples15_CeD.csv\n",
      "Labels16.csv predict_Samples16_CeD.csv\n",
      "Labels17.csv predict_Samples17_CeD.csv\n",
      "Labels18.csv predict_Samples18_CeD.csv\n",
      "Labels19.csv predict_Samples19_CeD.csv\n",
      "Labels20.csv predict_Samples20_CeD.csv\n",
      "Labels21.csv predict_Samples21_Ctrl.csv\n",
      "Labels22.csv predict_Samples22_Ctrl.csv\n",
      "Labels23.csv predict_Samples23_Ctrl.csv\n",
      "Labels24.csv predict_Samples24_Ctrl.csv\n",
      "Labels25.csv predict_Samples25_Ctrl.csv\n",
      "Labels26.csv predict_Samples26_Ctrl.csv\n",
      "Labels27.csv predict_Samples27_Ctrl.csv\n",
      "Labels28.csv predict_Samples28_RCDII.csv\n",
      "Labels29.csv predict_Samples29_RCDII.csv\n",
      "Labels30.csv predict_Samples30_RCDII.csv\n",
      "Labels31.csv predict_Samples31_RCDII.csv\n",
      "Labels32.csv predict_Samples32_RCDII.csv\n",
      "Labels33.csv predict_Samples33_RCDII.csv\n",
      "Labels34.csv predict_Samples34_CD.csv\n",
      "Labels35.csv predict_Samples35_CD.csv\n",
      "Labels36.csv predict_Samples36_CD.csv\n",
      "Labels37.csv predict_Samples37_CD.csv\n",
      "Labels38.csv predict_Samples38_CD.csv\n",
      "Labels39.csv predict_Samples39_CD.csv\n",
      "Labels40.csv predict_Samples40_CD.csv\n",
      "Labels41.csv predict_Samples41_CD.csv\n",
      "Labels42.csv predict_Samples42_CD.csv\n",
      "Labels43.csv predict_Samples43_CD.csv\n",
      "Labels44.csv predict_Samples44_CD.csv\n",
      "Labels45.csv predict_Samples45_CD.csv\n",
      "Labels46.csv predict_Samples46_CD.csv\n",
      "Labels47.csv predict_Samples47_CD.csv\n"
     ]
    },
    {
     "name": "stderr",
     "output_type": "stream",
     "text": [
      "/home/paul/anaconda3/lib/python3.6/site-packages/sklearn/metrics/classification.py:1135: UndefinedMetricWarning: Precision and F-score are ill-defined and being set to 0.0 in labels with no predicted samples.\n",
      "  'precision', 'predicted', average, warn_for)\n"
     ]
    }
   ],
   "source": [
    "trueheap = pd.DataFrame()\n",
    "predheap = pd.DataFrame()\n",
    "samplefiles = sorted(os.listdir('../Results/Predictions/HMIS-2 LDA/CV-sample'))\n",
    "\n",
    "for labelname, samplename in zip(labelfiles, samplefiles):\n",
    "    trueheap = trueheap.append(pd.read_csv(\"../Data/HMIS-2/Labels/\" + labelname, header=None, engine='python'))\n",
    "    predheap = predheap.append(pd.read_csv(\"../Results/Predictions/HMIS-2 LDA/CV-sample/\" + samplename, header=None, engine='python'))\n",
    "\n",
    "F1list = metrics.precision_recall_fscore_support(y_pred=predheap.values, y_true=trueheap.values)[2]\n"
   ]
  }
 ],
 "metadata": {
  "kernelspec": {
   "display_name": "Python 3",
   "language": "python",
   "name": "python3"
  },
  "language_info": {
   "codemirror_mode": {
    "name": "ipython",
    "version": 3
   },
   "file_extension": ".py",
   "mimetype": "text/x-python",
   "name": "python",
   "nbconvert_exporter": "python",
   "pygments_lexer": "ipython3",
   "version": "3.6.3"
  }
 },
 "nbformat": 4,
 "nbformat_minor": 2
}
