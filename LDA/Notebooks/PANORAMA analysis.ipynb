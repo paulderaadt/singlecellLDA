{
 "cells": [
  {
   "cell_type": "markdown",
   "metadata": {},
   "source": [
    "# Data exploration of CyTOF sets"
   ]
  },
  {
   "cell_type": "code",
   "execution_count": 36,
   "metadata": {
    "collapsed": true
   },
   "outputs": [],
   "source": [
    "import pandas as pd\n",
    "from sklearn.discriminant_analysis import LinearDiscriminantAnalysis\n",
    "import numpy as np\n",
    "from sklearn.metrics import f1_score\n",
    "import os\n",
    "from sklearn import metrics\n",
    "import matplotlib.pyplot as plt\n",
    "from matplotlib.pyplot import figure\n",
    "from sklearn.model_selection import KFold\n"
   ]
  },
  {
   "cell_type": "markdown",
   "metadata": {},
   "source": [
    "## Sample of data"
   ]
  },
  {
   "cell_type": "code",
   "execution_count": 37,
   "metadata": {},
   "outputs": [
    {
     "data": {
      "text/html": [
       "<div>\n",
       "<style scoped>\n",
       "    .dataframe tbody tr th:only-of-type {\n",
       "        vertical-align: middle;\n",
       "    }\n",
       "\n",
       "    .dataframe tbody tr th {\n",
       "        vertical-align: top;\n",
       "    }\n",
       "\n",
       "    .dataframe thead th {\n",
       "        text-align: right;\n",
       "    }\n",
       "</style>\n",
       "<table border=\"1\" class=\"dataframe\">\n",
       "  <thead>\n",
       "    <tr style=\"text-align: right;\">\n",
       "      <th></th>\n",
       "      <th>Ter119</th>\n",
       "      <th>CD45.2</th>\n",
       "      <th>Ly6G</th>\n",
       "      <th>IgD</th>\n",
       "      <th>CD11c</th>\n",
       "      <th>F480</th>\n",
       "      <th>CD3</th>\n",
       "      <th>NKp46</th>\n",
       "      <th>CD23</th>\n",
       "      <th>CD34</th>\n",
       "      <th>...</th>\n",
       "      <th>CD150</th>\n",
       "      <th>CD25</th>\n",
       "      <th>TCRb</th>\n",
       "      <th>CD43</th>\n",
       "      <th>CD64</th>\n",
       "      <th>CD138</th>\n",
       "      <th>CD103</th>\n",
       "      <th>IgM</th>\n",
       "      <th>CD44</th>\n",
       "      <th>MHCII</th>\n",
       "    </tr>\n",
       "  </thead>\n",
       "  <tbody>\n",
       "    <tr>\n",
       "      <th>0</th>\n",
       "      <td>-0.30416</td>\n",
       "      <td>1.31230</td>\n",
       "      <td>-0.286970</td>\n",
       "      <td>-0.20859</td>\n",
       "      <td>1.402700</td>\n",
       "      <td>1.20650</td>\n",
       "      <td>-0.213720</td>\n",
       "      <td>-0.054569</td>\n",
       "      <td>-0.239330</td>\n",
       "      <td>-0.282240</td>\n",
       "      <td>...</td>\n",
       "      <td>0.874740</td>\n",
       "      <td>-0.016584</td>\n",
       "      <td>-0.099003</td>\n",
       "      <td>5.720300</td>\n",
       "      <td>0.66856</td>\n",
       "      <td>-0.098138</td>\n",
       "      <td>-0.229340</td>\n",
       "      <td>-0.246720</td>\n",
       "      <td>3.34600</td>\n",
       "      <td>-0.050778</td>\n",
       "    </tr>\n",
       "    <tr>\n",
       "      <th>1</th>\n",
       "      <td>-0.33094</td>\n",
       "      <td>0.19375</td>\n",
       "      <td>-0.009644</td>\n",
       "      <td>-0.33023</td>\n",
       "      <td>-0.339830</td>\n",
       "      <td>1.32740</td>\n",
       "      <td>-0.321190</td>\n",
       "      <td>-0.294260</td>\n",
       "      <td>-0.215410</td>\n",
       "      <td>-0.292410</td>\n",
       "      <td>...</td>\n",
       "      <td>-0.304200</td>\n",
       "      <td>-0.318980</td>\n",
       "      <td>-0.239430</td>\n",
       "      <td>0.297110</td>\n",
       "      <td>0.43763</td>\n",
       "      <td>0.023776</td>\n",
       "      <td>-0.303940</td>\n",
       "      <td>0.202910</td>\n",
       "      <td>3.99780</td>\n",
       "      <td>0.344630</td>\n",
       "    </tr>\n",
       "    <tr>\n",
       "      <th>2</th>\n",
       "      <td>-0.30554</td>\n",
       "      <td>1.74500</td>\n",
       "      <td>1.051400</td>\n",
       "      <td>-0.27056</td>\n",
       "      <td>-0.143130</td>\n",
       "      <td>-0.30412</td>\n",
       "      <td>-0.199820</td>\n",
       "      <td>-0.261000</td>\n",
       "      <td>-0.253090</td>\n",
       "      <td>-0.341760</td>\n",
       "      <td>...</td>\n",
       "      <td>-0.228320</td>\n",
       "      <td>-0.315390</td>\n",
       "      <td>-0.238720</td>\n",
       "      <td>-0.250980</td>\n",
       "      <td>-0.33615</td>\n",
       "      <td>-0.189390</td>\n",
       "      <td>-0.137230</td>\n",
       "      <td>5.108300</td>\n",
       "      <td>0.39405</td>\n",
       "      <td>3.666300</td>\n",
       "    </tr>\n",
       "    <tr>\n",
       "      <th>3</th>\n",
       "      <td>-0.34303</td>\n",
       "      <td>2.01170</td>\n",
       "      <td>-0.172230</td>\n",
       "      <td>-0.33583</td>\n",
       "      <td>-0.342000</td>\n",
       "      <td>2.00310</td>\n",
       "      <td>-0.284280</td>\n",
       "      <td>-0.186040</td>\n",
       "      <td>0.300580</td>\n",
       "      <td>-0.290580</td>\n",
       "      <td>...</td>\n",
       "      <td>-0.263700</td>\n",
       "      <td>-0.222530</td>\n",
       "      <td>-0.266030</td>\n",
       "      <td>-0.155270</td>\n",
       "      <td>2.76790</td>\n",
       "      <td>-0.239380</td>\n",
       "      <td>-0.023883</td>\n",
       "      <td>-0.034218</td>\n",
       "      <td>4.48520</td>\n",
       "      <td>0.701710</td>\n",
       "    </tr>\n",
       "    <tr>\n",
       "      <th>4</th>\n",
       "      <td>-0.19893</td>\n",
       "      <td>1.81050</td>\n",
       "      <td>-0.300430</td>\n",
       "      <td>-0.32335</td>\n",
       "      <td>-0.342810</td>\n",
       "      <td>0.60875</td>\n",
       "      <td>-0.313480</td>\n",
       "      <td>0.570740</td>\n",
       "      <td>-0.244890</td>\n",
       "      <td>-0.096765</td>\n",
       "      <td>...</td>\n",
       "      <td>-0.296520</td>\n",
       "      <td>-0.136830</td>\n",
       "      <td>1.123000</td>\n",
       "      <td>3.555300</td>\n",
       "      <td>0.69628</td>\n",
       "      <td>0.102030</td>\n",
       "      <td>-0.016809</td>\n",
       "      <td>-0.264990</td>\n",
       "      <td>4.78600</td>\n",
       "      <td>0.606260</td>\n",
       "    </tr>\n",
       "    <tr>\n",
       "      <th>5</th>\n",
       "      <td>-0.21946</td>\n",
       "      <td>0.61753</td>\n",
       "      <td>-0.298550</td>\n",
       "      <td>-0.22917</td>\n",
       "      <td>-0.296820</td>\n",
       "      <td>1.09270</td>\n",
       "      <td>-0.257650</td>\n",
       "      <td>-0.335930</td>\n",
       "      <td>-0.295930</td>\n",
       "      <td>0.409980</td>\n",
       "      <td>...</td>\n",
       "      <td>-0.280840</td>\n",
       "      <td>0.278570</td>\n",
       "      <td>-0.332040</td>\n",
       "      <td>0.189010</td>\n",
       "      <td>2.29020</td>\n",
       "      <td>0.229340</td>\n",
       "      <td>-0.209560</td>\n",
       "      <td>0.376750</td>\n",
       "      <td>3.79260</td>\n",
       "      <td>0.669650</td>\n",
       "    </tr>\n",
       "    <tr>\n",
       "      <th>6</th>\n",
       "      <td>-0.28746</td>\n",
       "      <td>0.95229</td>\n",
       "      <td>0.018152</td>\n",
       "      <td>-0.31537</td>\n",
       "      <td>-0.139070</td>\n",
       "      <td>2.22740</td>\n",
       "      <td>-0.197400</td>\n",
       "      <td>-0.148140</td>\n",
       "      <td>-0.239470</td>\n",
       "      <td>0.717520</td>\n",
       "      <td>...</td>\n",
       "      <td>-0.302030</td>\n",
       "      <td>-0.242370</td>\n",
       "      <td>-0.294070</td>\n",
       "      <td>0.092166</td>\n",
       "      <td>0.21569</td>\n",
       "      <td>-0.320490</td>\n",
       "      <td>0.559120</td>\n",
       "      <td>-0.047981</td>\n",
       "      <td>3.18400</td>\n",
       "      <td>0.616270</td>\n",
       "    </tr>\n",
       "    <tr>\n",
       "      <th>7</th>\n",
       "      <td>-0.32242</td>\n",
       "      <td>0.90390</td>\n",
       "      <td>0.292450</td>\n",
       "      <td>0.67402</td>\n",
       "      <td>0.033029</td>\n",
       "      <td>1.97480</td>\n",
       "      <td>-0.331360</td>\n",
       "      <td>0.191630</td>\n",
       "      <td>-0.062204</td>\n",
       "      <td>1.518700</td>\n",
       "      <td>...</td>\n",
       "      <td>1.163300</td>\n",
       "      <td>-0.225190</td>\n",
       "      <td>-0.151240</td>\n",
       "      <td>4.113800</td>\n",
       "      <td>-0.12754</td>\n",
       "      <td>-0.099417</td>\n",
       "      <td>-0.270240</td>\n",
       "      <td>-0.315430</td>\n",
       "      <td>4.87170</td>\n",
       "      <td>0.935400</td>\n",
       "    </tr>\n",
       "    <tr>\n",
       "      <th>8</th>\n",
       "      <td>-0.26139</td>\n",
       "      <td>0.29810</td>\n",
       "      <td>0.075409</td>\n",
       "      <td>-0.32091</td>\n",
       "      <td>-0.216940</td>\n",
       "      <td>-0.20411</td>\n",
       "      <td>-0.336500</td>\n",
       "      <td>-0.282780</td>\n",
       "      <td>-0.213230</td>\n",
       "      <td>-0.292080</td>\n",
       "      <td>...</td>\n",
       "      <td>0.027988</td>\n",
       "      <td>-0.340940</td>\n",
       "      <td>-0.291220</td>\n",
       "      <td>3.314800</td>\n",
       "      <td>0.12707</td>\n",
       "      <td>0.298470</td>\n",
       "      <td>-0.266800</td>\n",
       "      <td>0.063750</td>\n",
       "      <td>3.55690</td>\n",
       "      <td>0.004834</td>\n",
       "    </tr>\n",
       "    <tr>\n",
       "      <th>9</th>\n",
       "      <td>-0.25832</td>\n",
       "      <td>0.70085</td>\n",
       "      <td>0.179340</td>\n",
       "      <td>-0.31544</td>\n",
       "      <td>-0.315110</td>\n",
       "      <td>0.53833</td>\n",
       "      <td>-0.027095</td>\n",
       "      <td>-0.302740</td>\n",
       "      <td>-0.218480</td>\n",
       "      <td>-0.152440</td>\n",
       "      <td>...</td>\n",
       "      <td>-0.159760</td>\n",
       "      <td>-0.320480</td>\n",
       "      <td>0.239730</td>\n",
       "      <td>0.043636</td>\n",
       "      <td>2.25280</td>\n",
       "      <td>0.507060</td>\n",
       "      <td>-0.307170</td>\n",
       "      <td>-0.180140</td>\n",
       "      <td>3.63510</td>\n",
       "      <td>-0.112150</td>\n",
       "    </tr>\n",
       "  </tbody>\n",
       "</table>\n",
       "<p>10 rows × 39 columns</p>\n",
       "</div>"
      ],
      "text/plain": [
       "    Ter119   CD45.2      Ly6G      IgD     CD11c     F480       CD3     NKp46  \\\n",
       "0 -0.30416  1.31230 -0.286970 -0.20859  1.402700  1.20650 -0.213720 -0.054569   \n",
       "1 -0.33094  0.19375 -0.009644 -0.33023 -0.339830  1.32740 -0.321190 -0.294260   \n",
       "2 -0.30554  1.74500  1.051400 -0.27056 -0.143130 -0.30412 -0.199820 -0.261000   \n",
       "3 -0.34303  2.01170 -0.172230 -0.33583 -0.342000  2.00310 -0.284280 -0.186040   \n",
       "4 -0.19893  1.81050 -0.300430 -0.32335 -0.342810  0.60875 -0.313480  0.570740   \n",
       "5 -0.21946  0.61753 -0.298550 -0.22917 -0.296820  1.09270 -0.257650 -0.335930   \n",
       "6 -0.28746  0.95229  0.018152 -0.31537 -0.139070  2.22740 -0.197400 -0.148140   \n",
       "7 -0.32242  0.90390  0.292450  0.67402  0.033029  1.97480 -0.331360  0.191630   \n",
       "8 -0.26139  0.29810  0.075409 -0.32091 -0.216940 -0.20411 -0.336500 -0.282780   \n",
       "9 -0.25832  0.70085  0.179340 -0.31544 -0.315110  0.53833 -0.027095 -0.302740   \n",
       "\n",
       "       CD23      CD34    ...        CD150      CD25      TCRb      CD43  \\\n",
       "0 -0.239330 -0.282240    ...     0.874740 -0.016584 -0.099003  5.720300   \n",
       "1 -0.215410 -0.292410    ...    -0.304200 -0.318980 -0.239430  0.297110   \n",
       "2 -0.253090 -0.341760    ...    -0.228320 -0.315390 -0.238720 -0.250980   \n",
       "3  0.300580 -0.290580    ...    -0.263700 -0.222530 -0.266030 -0.155270   \n",
       "4 -0.244890 -0.096765    ...    -0.296520 -0.136830  1.123000  3.555300   \n",
       "5 -0.295930  0.409980    ...    -0.280840  0.278570 -0.332040  0.189010   \n",
       "6 -0.239470  0.717520    ...    -0.302030 -0.242370 -0.294070  0.092166   \n",
       "7 -0.062204  1.518700    ...     1.163300 -0.225190 -0.151240  4.113800   \n",
       "8 -0.213230 -0.292080    ...     0.027988 -0.340940 -0.291220  3.314800   \n",
       "9 -0.218480 -0.152440    ...    -0.159760 -0.320480  0.239730  0.043636   \n",
       "\n",
       "      CD64     CD138     CD103       IgM     CD44     MHCII  \n",
       "0  0.66856 -0.098138 -0.229340 -0.246720  3.34600 -0.050778  \n",
       "1  0.43763  0.023776 -0.303940  0.202910  3.99780  0.344630  \n",
       "2 -0.33615 -0.189390 -0.137230  5.108300  0.39405  3.666300  \n",
       "3  2.76790 -0.239380 -0.023883 -0.034218  4.48520  0.701710  \n",
       "4  0.69628  0.102030 -0.016809 -0.264990  4.78600  0.606260  \n",
       "5  2.29020  0.229340 -0.209560  0.376750  3.79260  0.669650  \n",
       "6  0.21569 -0.320490  0.559120 -0.047981  3.18400  0.616270  \n",
       "7 -0.12754 -0.099417 -0.270240 -0.315430  4.87170  0.935400  \n",
       "8  0.12707  0.298470 -0.266800  0.063750  3.55690  0.004834  \n",
       "9  2.25280  0.507060 -0.307170 -0.180140  3.63510 -0.112150  \n",
       "\n",
       "[10 rows x 39 columns]"
      ]
     },
     "execution_count": 37,
     "metadata": {},
     "output_type": "execute_result"
    }
   ],
   "source": [
    "sample = pd.read_csv(\"../Data/PANORAMA/Samples/Samples01.csv\", header=None)\n",
    "markers = ['Ter119','CD45.2','Ly6G','IgD','CD11c','F480','CD3','NKp46','CD23',\n",
    "            'CD34','CD115','CD19','120g8','CD8','Ly6C','CD4','CD11b','CD27','CD16_32',\n",
    "            'SiglecF','Foxp3','B220','CD5','FceR1a','TCRgd','CCR7','Sca1','CD49b','cKit',\n",
    "            'CD150','CD25','TCRb','CD43','CD64','CD138','CD103','IgM','CD44','MHCII']\n",
    "sample.columns = markers\n",
    "sample.head(10)"
   ]
  },
  {
   "cell_type": "code",
   "execution_count": 38,
   "metadata": {
    "collapsed": true
   },
   "outputs": [],
   "source": [
    "#Declare variables for data acquisition from CSV results\n",
    "labelfiles = os.listdir(\"../Data/PANORAMA/Labels/\")\n",
    "samplefiles = os.listdir(\"../Data/PANORAMA/Samples/\")\n",
    "labelfiles.sort()\n",
    "samplefiles.sort()\n",
    "F1list = []\n",
    "Acclist = []\n",
    "predictfiles = os.listdir(\"../Results/Predictions/PANORAMA LDA/CV-sample\")\n",
    "predictfiles.sort()\n",
    "truedict = {}\n",
    "preddict = {}"
   ]
  },
  {
   "cell_type": "code",
   "execution_count": 39,
   "metadata": {},
   "outputs": [],
   "source": [
    "#Data acquisition from CSV results\n",
    "\n",
    "for i in range(len(samplefiles)):\n",
    "    #Calculate F1 & accuracy scores for each prediciton\n",
    "    true = list(pd.read_csv(\"../Data/PANORAMA/Labels/\" + labelfiles[i], header=None, engine='python').values.ravel())\n",
    "    predicted = list(pd.read_csv(\"../Results/Predictions/PANORAMA LDA/CV-sample/\" + predictfiles[i], header=None, engine='python').values.ravel())\n",
    "    F1list.append(metrics.f1_score(truelabels, predictlabels, average=None, labels=list(set(truelabels.values.ravel()))))\n",
    "    Acclist.append(metrics.accuracy_score(true, predicted))\n",
    "    #Calculate counts of all original labels\n",
    "    unique, counts = np.unique(true, return_counts=True)\n",
    "    temp = dict(zip(unique, counts))\n",
    "    for celltype in temp:\n",
    "        try:\n",
    "            truedict[celltype] += temp[celltype]\n",
    "        except KeyError:\n",
    "            truedict[celltype] = temp[celltype]\n",
    "    #Calculate counts of all predicted labels\n",
    "    unique, counts = np.unique(predicted, return_counts=True)\n",
    "    temp = dict(zip(unique, counts))\n",
    "    for celltype in temp:\n",
    "        try:\n",
    "            preddict[celltype] += temp[celltype]\n",
    "        except KeyError:\n",
    "            preddict[celltype] = temp[celltype]"
   ]
  },
  {
   "cell_type": "markdown",
   "metadata": {},
   "source": [
    "## CV-sample stats"
   ]
  },
  {
   "cell_type": "code",
   "execution_count": 40,
   "metadata": {},
   "outputs": [
    {
     "name": "stdout",
     "output_type": "stream",
     "text": [
      "Number of cell predictions made: 514386\n",
      "Original number of true labels: 514386\n"
     ]
    }
   ],
   "source": [
    "instancecount =0\n",
    "for key in preddict:\n",
    "    instancecount += truedict[key]\n",
    "print('Number of cell predictions made: %i' % instancecount)\n",
    "instancecount =0\n",
    "for key in preddict:\n",
    "    instancecount += truedict[key]\n",
    "print('Original number of true labels: %i' % instancecount)"
   ]
  },
  {
   "cell_type": "code",
   "execution_count": 41,
   "metadata": {},
   "outputs": [
    {
     "data": {
      "image/png": "[encoded data removed]",
      "text/plain": [
       "<Figure size 1440x576 with 1 Axes>"
      ]
     },
     "metadata": {},
     "output_type": "display_data"
    }
   ],
   "source": [
    "# set width of bars\n",
    "barWidth = 0.25\n",
    "plt.rcParams['figure.figsize'] = [20, 8]\n",
    "\n",
    "# set height of bars\n",
    "bars = [[dictionary[key] for key in dictionary] for dictionary in [truedict, preddict]]\n",
    "for x in range(len(bars)):\n",
    "    total = sum(bars[x])\n",
    "    for y in range(len(bars[x])):\n",
    "        bars[x][y] = bars[x][y] / total\n",
    "#set bar x coords\n",
    "r1 = np.arange(len(bars[0]))\n",
    "r2 = r1 + 0.25\n",
    "#plot bars & ticks\n",
    "plt.bar(r1, bars[0], color='green', width=barWidth, edgecolor='black', label='true')\n",
    "plt.bar(r2, bars[1], color='purple', width=barWidth, edgecolor='black', label='predicted')\n",
    "plt.xticks([r + barWidth for r in range(len(truedict.keys()))], truedict.keys(), rotation='vertical')\n",
    "plt.legend()\n",
    "plt.title(\"PANORAMA\")\n",
    "plt.ylabel(\"Relative frequency\")\n",
    "plt.show()"
   ]
  },
  {
   "cell_type": "code",
   "execution_count": 42,
   "metadata": {},
   "outputs": [
    {
     "name": "stdout",
     "output_type": "stream",
     "text": [
      "PANORAMA CV-samples\n",
      "Accuracy mean: 96.99\n",
      "Accuracy std: 0.34\n",
      "F1 median: 0.93\n"
     ]
    }
   ],
   "source": [
    "F1median = np.median(F1list)\n",
    "Accmean = np.mean(Acclist) * 100\n",
    "Accstd = np.std(Acclist) * 100\n",
    "print('PANORAMA CV-samples')\n",
    "print('Accuracy mean: %s' % round(Accmean, 2))\n",
    "print('Accuracy std: %s' % round(Accstd, 2))\n",
    "print('F1 median: %s' % round(F1median, 2))"
   ]
  },
  {
   "cell_type": "markdown",
   "metadata": {},
   "source": [
    "Correct F1 median:"
   ]
  },
  {
   "cell_type": "code",
   "execution_count": 43,
   "metadata": {},
   "outputs": [
    {
     "name": "stdout",
     "output_type": "stream",
     "text": [
      "correct median F1\n"
     ]
    },
    {
     "data": {
      "text/plain": [
       "0.9314967775590473"
      ]
     },
     "execution_count": 43,
     "metadata": {},
     "output_type": "execute_result"
    }
   ],
   "source": [
    "print(\"correct median F1\")\n",
    "np.median(np.sum(F1list, axis=0)/len(F1list))"
   ]
  },
  {
   "cell_type": "markdown",
   "metadata": {},
   "source": [
    "## CV-cells stats"
   ]
  },
  {
   "cell_type": "code",
   "execution_count": 44,
   "metadata": {
    "collapsed": true
   },
   "outputs": [],
   "source": [
    "#Load all labels for 5-cold CV performance\n",
    "predictlabels = pd.DataFrame()\n",
    "truelabels = pd.DataFrame()\n",
    "\n",
    "for batch in range(1, 6):\n",
    "    predictlabels = predictlabels.append(pd.read_csv(\"../Results/Predictions/PANORAMA LDA/CV-cells/\" + 'predict_batch_' + str(batch) +'.csv',\n",
    "                                          header=None, engine='python'))\n",
    "for filename in labelfiles:\n",
    "    truelabels = truelabels.append(pd.read_csv(\"../Data/PANORAMA/Labels/\" + filename, header=None))\n",
    "\n"
   ]
  },
  {
   "cell_type": "markdown",
   "metadata": {},
   "source": [
    "## Calculate accuracies and F1 scores for 5 fold"
   ]
  },
  {
   "cell_type": "code",
   "execution_count": 64,
   "metadata": {},
   "outputs": [],
   "source": [
    "F1list  = []\n",
    "Acclist = []\n",
    "\n",
    "kfoldsplitter = KFold(n_splits=5)\n",
    "for train, test in kfoldsplitter.split(predictlabels):\n",
    "    true = truelabels.iloc[test].values.ravel()\n",
    "    pred = predictlabels.iloc[test].values.ravel()\n",
    "    F1list.append(metrics.f1_score(truelabels, predictlabels, average=None, labels=list(set(truelabels.values.ravel()))))\n",
    "    Acclist.append(metrics.accuracy_score(true, pred))"
   ]
  },
  {
   "cell_type": "code",
   "execution_count": 65,
   "metadata": {},
   "outputs": [
    {
     "name": "stdout",
     "output_type": "stream",
     "text": [
      "PANORAMA CV-cells\n",
      "Accuracy mean: 97.14\n",
      "Accuracy std: 0.21\n",
      "F1 median: 0.93\n"
     ]
    }
   ],
   "source": [
    "F1median = np.median(F1list)\n",
    "Accmean = np.mean(Acclist) * 100\n",
    "Accstd = np.std(Acclist) * 100\n",
    "print('PANORAMA CV-cells')\n",
    "print('Accuracy mean: %s' % round(Accmean, 2))\n",
    "print('Accuracy std: %s' % round(Accstd, 2))\n",
    "print('F1 median: %s' % round(F1median, 2))"
   ]
  },
  {
   "cell_type": "code",
   "execution_count": 66,
   "metadata": {},
   "outputs": [
    {
     "name": "stdout",
     "output_type": "stream",
     "text": [
      "correct median F1\n"
     ]
    },
    {
     "data": {
      "text/plain": [
       "0.9314967775590473"
      ]
     },
     "execution_count": 66,
     "metadata": {},
     "output_type": "execute_result"
    }
   ],
   "source": [
    "print(\"correct median F1\")\n",
    "np.median(np.sum(F1list, axis=0)/len(F1list))"
   ]
  },
  {
   "cell_type": "code",
   "execution_count": 67,
   "metadata": {},
   "outputs": [
    {
     "data": {
      "image/png": "[encoded data removed]",
      "text/plain": [
       "<Figure size 576x576 with 1 Axes>"
      ]
     },
     "metadata": {},
     "output_type": "display_data"
    }
   ],
   "source": [
    "logplotdict = {}\n",
    "plt.rcParams['figure.figsize'] = [8, 8]\n",
    "\n",
    "for i, key in enumerate(preddict):\n",
    "    logplotdict[key] = [(np.sum(F1list, axis=0)/5)[i], np.log10(preddict[key])]\n",
    "x = [logplotdict[i][1] for i in logplotdict]\n",
    "y = [logplotdict[i][0] for i in logplotdict]\n",
    "plt.xlabel('Log10(predicted population size)')\n",
    "plt.ylabel('F1-score')\n",
    "plt.scatter(x, y, s=80)\n",
    "plt.rc('axes', axisbelow=True)\n",
    "plt.title(\"PANORAMA\")\n",
    "plt.show()"
   ]
  }
 ],
 "metadata": {
  "kernelspec": {
   "display_name": "Python 3",
   "language": "python",
   "name": "python3"
  },
  "language_info": {
   "codemirror_mode": {
    "name": "ipython",
    "version": 3
   },
   "file_extension": ".py",
   "mimetype": "text/x-python",
   "name": "python",
   "nbconvert_exporter": "python",
   "pygments_lexer": "ipython3",
   "version": "3.6.3"
  }
 },
 "nbformat": 4,
 "nbformat_minor": 2
}
