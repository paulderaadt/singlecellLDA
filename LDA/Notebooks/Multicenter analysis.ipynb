{
 "cells": [
  {
   "cell_type": "markdown",
   "metadata": {},
   "source": [
    "# Data exploration of CyTOF sets\n",
    "MULTICENTER"
   ]
  },
  {
   "cell_type": "code",
   "execution_count": 1,
   "metadata": {
    "collapsed": true
   },
   "outputs": [],
   "source": [
    "import pandas as pd\n",
    "from sklearn.discriminant_analysis import LinearDiscriminantAnalysis\n",
    "import numpy as np\n",
    "from sklearn.metrics import f1_score\n",
    "import os\n",
    "from sklearn import metrics\n",
    "import matplotlib.pyplot as plt\n",
    "from matplotlib.pyplot import figure\n",
    "from sklearn.model_selection import KFold\n",
    "import collections"
   ]
  },
  {
   "cell_type": "markdown",
   "metadata": {},
   "source": [
    "## Sample of data"
   ]
  },
  {
   "cell_type": "code",
   "execution_count": 2,
   "metadata": {},
   "outputs": [
    {
     "data": {
      "text/html": [
       "<div>\n",
       "<style scoped>\n",
       "    .dataframe tbody tr th:only-of-type {\n",
       "        vertical-align: middle;\n",
       "    }\n",
       "\n",
       "    .dataframe tbody tr th {\n",
       "        vertical-align: top;\n",
       "    }\n",
       "\n",
       "    .dataframe thead th {\n",
       "        text-align: right;\n",
       "    }\n",
       "</style>\n",
       "<table border=\"1\" class=\"dataframe\">\n",
       "  <thead>\n",
       "    <tr style=\"text-align: right;\">\n",
       "      <th></th>\n",
       "      <th>CCR6</th>\n",
       "      <th>CD20</th>\n",
       "      <th>CD45</th>\n",
       "      <th>CD14</th>\n",
       "      <th>CD16</th>\n",
       "      <th>CD8</th>\n",
       "      <th>CD3</th>\n",
       "      <th>CD4</th>\n",
       "    </tr>\n",
       "  </thead>\n",
       "  <tbody>\n",
       "    <tr>\n",
       "      <th>0</th>\n",
       "      <td>17.890000</td>\n",
       "      <td>10.2310</td>\n",
       "      <td>790.55</td>\n",
       "      <td>2.7417</td>\n",
       "      <td>0.00000</td>\n",
       "      <td>1.065300</td>\n",
       "      <td>179.600000</td>\n",
       "      <td>45.0630</td>\n",
       "    </tr>\n",
       "    <tr>\n",
       "      <th>1</th>\n",
       "      <td>0.000000</td>\n",
       "      <td>4.6372</td>\n",
       "      <td>1112.70</td>\n",
       "      <td>468.4100</td>\n",
       "      <td>0.25689</td>\n",
       "      <td>2.436200</td>\n",
       "      <td>1.781100</td>\n",
       "      <td>13.5060</td>\n",
       "    </tr>\n",
       "    <tr>\n",
       "      <th>2</th>\n",
       "      <td>0.002912</td>\n",
       "      <td>7.2418</td>\n",
       "      <td>1294.20</td>\n",
       "      <td>624.2500</td>\n",
       "      <td>0.00000</td>\n",
       "      <td>0.493150</td>\n",
       "      <td>2.351400</td>\n",
       "      <td>2.0904</td>\n",
       "    </tr>\n",
       "    <tr>\n",
       "      <th>3</th>\n",
       "      <td>2.911800</td>\n",
       "      <td>2.7268</td>\n",
       "      <td>1321.20</td>\n",
       "      <td>579.8200</td>\n",
       "      <td>0.00000</td>\n",
       "      <td>0.910060</td>\n",
       "      <td>1.575700</td>\n",
       "      <td>8.3613</td>\n",
       "    </tr>\n",
       "    <tr>\n",
       "      <th>4</th>\n",
       "      <td>0.000000</td>\n",
       "      <td>4.5986</td>\n",
       "      <td>778.36</td>\n",
       "      <td>0.0000</td>\n",
       "      <td>0.00000</td>\n",
       "      <td>0.000000</td>\n",
       "      <td>253.720000</td>\n",
       "      <td>38.5670</td>\n",
       "    </tr>\n",
       "    <tr>\n",
       "      <th>5</th>\n",
       "      <td>501.770000</td>\n",
       "      <td>921.6700</td>\n",
       "      <td>934.45</td>\n",
       "      <td>2.6003</td>\n",
       "      <td>0.00000</td>\n",
       "      <td>0.043438</td>\n",
       "      <td>2.614300</td>\n",
       "      <td>1.7870</td>\n",
       "    </tr>\n",
       "    <tr>\n",
       "      <th>6</th>\n",
       "      <td>0.753110</td>\n",
       "      <td>2.8833</td>\n",
       "      <td>964.34</td>\n",
       "      <td>383.8900</td>\n",
       "      <td>4.11720</td>\n",
       "      <td>0.000000</td>\n",
       "      <td>3.513200</td>\n",
       "      <td>1.4420</td>\n",
       "    </tr>\n",
       "    <tr>\n",
       "      <th>7</th>\n",
       "      <td>0.157420</td>\n",
       "      <td>0.0000</td>\n",
       "      <td>748.81</td>\n",
       "      <td>80.8760</td>\n",
       "      <td>1.59330</td>\n",
       "      <td>4.550900</td>\n",
       "      <td>4.110600</td>\n",
       "      <td>5.1319</td>\n",
       "    </tr>\n",
       "    <tr>\n",
       "      <th>8</th>\n",
       "      <td>0.000000</td>\n",
       "      <td>1.7064</td>\n",
       "      <td>965.98</td>\n",
       "      <td>1.4520</td>\n",
       "      <td>65.13400</td>\n",
       "      <td>0.186930</td>\n",
       "      <td>0.008875</td>\n",
       "      <td>0.0000</td>\n",
       "    </tr>\n",
       "    <tr>\n",
       "      <th>9</th>\n",
       "      <td>0.000000</td>\n",
       "      <td>2.5197</td>\n",
       "      <td>1308.40</td>\n",
       "      <td>0.2186</td>\n",
       "      <td>16.53700</td>\n",
       "      <td>83.937000</td>\n",
       "      <td>4.547600</td>\n",
       "      <td>1.5487</td>\n",
       "    </tr>\n",
       "  </tbody>\n",
       "</table>\n",
       "</div>"
      ],
      "text/plain": [
       "         CCR6      CD20     CD45      CD14      CD16        CD8         CD3  \\\n",
       "0   17.890000   10.2310   790.55    2.7417   0.00000   1.065300  179.600000   \n",
       "1    0.000000    4.6372  1112.70  468.4100   0.25689   2.436200    1.781100   \n",
       "2    0.002912    7.2418  1294.20  624.2500   0.00000   0.493150    2.351400   \n",
       "3    2.911800    2.7268  1321.20  579.8200   0.00000   0.910060    1.575700   \n",
       "4    0.000000    4.5986   778.36    0.0000   0.00000   0.000000  253.720000   \n",
       "5  501.770000  921.6700   934.45    2.6003   0.00000   0.043438    2.614300   \n",
       "6    0.753110    2.8833   964.34  383.8900   4.11720   0.000000    3.513200   \n",
       "7    0.157420    0.0000   748.81   80.8760   1.59330   4.550900    4.110600   \n",
       "8    0.000000    1.7064   965.98    1.4520  65.13400   0.186930    0.008875   \n",
       "9    0.000000    2.5197  1308.40    0.2186  16.53700  83.937000    4.547600   \n",
       "\n",
       "       CD4  \n",
       "0  45.0630  \n",
       "1  13.5060  \n",
       "2   2.0904  \n",
       "3   8.3613  \n",
       "4  38.5670  \n",
       "5   1.7870  \n",
       "6   1.4420  \n",
       "7   5.1319  \n",
       "8   0.0000  \n",
       "9   1.5487  "
      ]
     },
     "execution_count": 2,
     "metadata": {},
     "output_type": "execute_result"
    }
   ],
   "source": [
    "sample = pd.read_csv(\"../Data/MultiCenter/Samples/sample01.csv\", header=None)\n",
    "markers = ['CCR6','CD20','CD45','CD14','CD16','CD8','CD3','CD4']\n",
    "sample.columns = markers\n",
    "\n",
    "sample.head(10)"
   ]
  },
  {
   "cell_type": "code",
   "execution_count": 3,
   "metadata": {
    "collapsed": true
   },
   "outputs": [],
   "source": [
    "#Declare variables for data acquisition from CSV results\n",
    "labelfiles = os.listdir(\"../Data/MultiCenter/Labels/\")\n",
    "samplefiles = os.listdir(\"../Data/MultiCenter/Samples/\")\n",
    "labelfiles.sort()\n",
    "samplefiles.sort()\n",
    "F1list = []\n",
    "Acclist = []\n",
    "predictfiles = os.listdir(\"../Results/Predictions/MultiCenter LDA/CV-sample\")\n",
    "predictfiles.sort()\n",
    "truedict = collections.OrderedDict()\n",
    "preddict = collections.OrderedDict()"
   ]
  },
  {
   "cell_type": "code",
   "execution_count": 4,
   "metadata": {
    "collapsed": true
   },
   "outputs": [],
   "source": [
    "#Data acquisition from CSV results\n",
    "\n",
    "for i in range(len(samplefiles)):\n",
    "    #Calculate F1 & accuracy scores for each prediciton\n",
    "    true = list(pd.read_csv(\"../Data/MultiCenter/Labels/\" + labelfiles[i], header=None, engine='python').values.ravel())\n",
    "    predicted = list(pd.read_csv(\"../Results/Predictions/MultiCenter LDA/CV-sample/\" + predictfiles[i], header=None, engine='python').values.ravel())\n",
    "    F1list.append(metrics.f1_score(y_true=true, y_pred=predicted, average='weighted'))\n",
    "    Acclist.append(metrics.accuracy_score(true, predicted))\n",
    "    #Calculate counts of all original labels\n",
    "    unique, counts = np.unique(true, return_counts=True)\n",
    "    temp = dict(zip(unique, counts))\n",
    "    for celltype in temp:\n",
    "        try:\n",
    "            truedict[celltype] += temp[celltype]\n",
    "        except KeyError:\n",
    "            truedict[celltype] = temp[celltype]\n",
    "    #Calculate counts of all predicted labels\n",
    "    unique, counts = np.unique(predicted, return_counts=True)\n",
    "    temp = dict(zip(unique, counts))\n",
    "    for celltype in temp:\n",
    "        try:\n",
    "            preddict[celltype] += temp[celltype]\n",
    "        except KeyError:\n",
    "            preddict[celltype] = temp[celltype]"
   ]
  },
  {
   "cell_type": "markdown",
   "metadata": {},
   "source": [
    "## CV-sample stats"
   ]
  },
  {
   "cell_type": "code",
   "execution_count": 5,
   "metadata": {},
   "outputs": [
    {
     "name": "stdout",
     "output_type": "stream",
     "text": [
      "Number of cell predictions made: 929685\n",
      "Original number of true labels: 929685\n"
     ]
    }
   ],
   "source": [
    "instancecount =0\n",
    "for key in preddict:\n",
    "    instancecount += truedict[key]\n",
    "print('Number of cell predictions made: %i' % instancecount)\n",
    "instancecount =0\n",
    "for key in preddict:\n",
    "    instancecount += truedict[key]\n",
    "print('Original number of true labels: %i' % instancecount)\n"
   ]
  },
  {
   "cell_type": "code",
   "execution_count": 13,
   "metadata": {},
   "outputs": [
    {
     "data": {
      "text/plain": [
       "OrderedDict([(0, 236042), (1, 76101), (2, 154913), (3, 92558), (4, 370071)])"
      ]
     },
     "execution_count": 13,
     "metadata": {},
     "output_type": "execute_result"
    }
   ],
   "source": [
    "truedict"
   ]
  },
  {
   "cell_type": "code",
   "execution_count": 7,
   "metadata": {},
   "outputs": [
    {
     "data": {
      "image/png": "[encoded data removed]",
      "text/plain": [
       "<Figure size 1440x576 with 1 Axes>"
      ]
     },
     "metadata": {},
     "output_type": "display_data"
    }
   ],
   "source": [
    "#increase plotsize\n",
    "plt.rcParams['figure.figsize'] = [20, 8]\n",
    "# set width of bars\n",
    "barWidth = 0.25\n",
    "# set height of bars\n",
    "truedict = collections.OrderedDict(sorted(truedict.items()))\n",
    "preddict = collections.OrderedDict(sorted(preddict.items()))\n",
    "bars = [[dictionary[key] for key in dictionary] for dictionary in [truedict, preddict]]\n",
    "for x in range(len(bars)):\n",
    "    total = sum(bars[x])\n",
    "    for y in range(len(bars[x])):\n",
    "        bars[x][y] = bars[x][y] / total\n",
    "#set bar x coords\n",
    "r1 = np.arange(4)\n",
    "r2 = r1 + 0.25\n",
    "#plot bars & ticks\n",
    "plt.bar(r1, bars[0], color='green', width=barWidth, edgecolor='black', label='true')\n",
    "plt.bar(r2, bars[1], color='purple', width=barWidth, edgecolor='black', label='predicted')\n",
    "plt.xticks([r + barWidth for r in range(len(bars[0]))], truedict.keys(), rotation='vertical' )\n",
    "plt.legend()\n",
    "plt.show()"
   ]
  },
  {
   "cell_type": "code",
   "execution_count": 8,
   "metadata": {
    "collapsed": true
   },
   "outputs": [],
   "source": [
    "truedict = collections.OrderedDict(sorted(truedict.items()))\n"
   ]
  },
  {
   "cell_type": "code",
   "execution_count": 9,
   "metadata": {},
   "outputs": [
    {
     "name": "stdout",
     "output_type": "stream",
     "text": [
      "HMIS-2 CV-samples\n",
      "Accuracy mean: 86.06\n",
      "Accuracy std: 3.39\n",
      "F1 median: 0.87\n"
     ]
    }
   ],
   "source": [
    "F1median = np.median(F1list)\n",
    "Accmean = np.mean(Acclist) * 100\n",
    "Accstd = np.std(Acclist) * 100\n",
    "print('MULTICENTER CV-samples')\n",
    "print('Accuracy mean: %s' % round(Accmean, 2))\n",
    "print('Accuracy std: %s' % round(Accstd, 2))\n",
    "print('F1 median: %s' % round(F1median, 2))"
   ]
  },
  {
   "cell_type": "markdown",
   "metadata": {},
   "source": [
    "## CV-cells stats"
   ]
  },
  {
   "cell_type": "code",
   "execution_count": 10,
   "metadata": {
    "collapsed": true
   },
   "outputs": [],
   "source": [
    "#Load all labels for 5-cold CV performance\n",
    "predictlabels = pd.DataFrame()\n",
    "truelabels = pd.DataFrame()\n",
    "\n",
    "for batch in range(1, 6):\n",
    "    predictlabels = predictlabels.append(pd.read_csv(\"../Results/Predictions/MultiCenter LDA/CV-cells/\" + 'predict_batch_' + str(batch) +'.csv',\n",
    "                                          header=None, engine='python'))\n",
    "for filename in labelfiles:\n",
    "    truelabels = truelabels.append(pd.read_csv(\"../Data/MultiCenter/Labels/\" + filename, header=None))\n",
    "\n"
   ]
  },
  {
   "cell_type": "markdown",
   "metadata": {},
   "source": [
    "## Calculate accuracies and F1 scores for 5 fold"
   ]
  },
  {
   "cell_type": "code",
   "execution_count": 11,
   "metadata": {
    "collapsed": true
   },
   "outputs": [],
   "source": [
    "F1list  = []\n",
    "Acclist = []\n",
    "\n",
    "kfoldsplitter = KFold(n_splits=5, shuffle=True, random_state=1)\n",
    "for train, test in kfoldsplitter.split(predictlabels):\n",
    "    true = truelabels.iloc[test].values.ravel()\n",
    "    pred = predictlabels.iloc[test].values.ravel()\n",
    "    F1list.append(metrics.f1_score(true, pred, average='weighted'))\n",
    "    Acclist.append(metrics.accuracy_score(true, pred))"
   ]
  },
  {
   "cell_type": "code",
   "execution_count": 12,
   "metadata": {},
   "outputs": [
    {
     "name": "stdout",
     "output_type": "stream",
     "text": [
      "MultiCenter CV-cells\n",
      "Accuracy mean: 80.32\n",
      "Accuracy std: 0.07\n",
      "F1 median: 0.81\n"
     ]
    }
   ],
   "source": [
    "F1median = np.median(F1list)\n",
    "Accmean = np.mean(Acclist) * 100\n",
    "Accstd = np.std(Acclist) * 100\n",
    "print('MultiCenter CV-cells')\n",
    "print('Accuracy mean: %s' % round(Accmean, 2))\n",
    "print('Accuracy std: %s' % round(Accstd, 2))\n",
    "print('F1 median: %s' % round(F1median, 2))"
   ]
  }
 ],
 "metadata": {
  "kernelspec": {
   "display_name": "Python 3",
   "language": "python",
   "name": "python3"
  },
  "language_info": {
   "codemirror_mode": {
    "name": "ipython",
    "version": 3
   },
   "file_extension": ".py",
   "mimetype": "text/x-python",
   "name": "python",
   "nbconvert_exporter": "python",
   "pygments_lexer": "ipython3",
   "version": "3.6.3"
  }
 },
 "nbformat": 4,
 "nbformat_minor": 2
}
