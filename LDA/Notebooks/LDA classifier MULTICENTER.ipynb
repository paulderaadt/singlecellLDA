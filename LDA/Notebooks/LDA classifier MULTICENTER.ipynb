{
 "cells": [
  {
   "cell_type": "markdown",
   "metadata": {},
   "source": [
    "# LDA classification of CyTOF"
   ]
  },
  {
   "cell_type": "markdown",
   "metadata": {},
   "source": [
    "#### Verifying results of Predicting   cell   types   in   single   cell   mass   cytometry data"
   ]
  },
  {
   "cell_type": "code",
   "execution_count": 14,
   "metadata": {
    "collapsed": true
   },
   "outputs": [],
   "source": [
    "import pandas as pd\n",
    "from sklearn.discriminant_analysis import LinearDiscriminantAnalysis\n",
    "import numpy as np\n",
    "from sklearn.metrics import f1_score\n",
    "import os\n",
    "from sklearn.model_selection import KFold\n",
    "from sklearn import metrics\n",
    "import matplotlib.pyplot as plt\n",
    "from matplotlib.pyplot import figure\n"
   ]
  },
  {
   "cell_type": "markdown",
   "metadata": {},
   "source": [
    "### Sample of data\n",
    "28 features over a large number of cells per CSV"
   ]
  },
  {
   "cell_type": "code",
   "execution_count": 15,
   "metadata": {},
   "outputs": [
    {
     "data": {
      "text/html": [
       "<div>\n",
       "<style scoped>\n",
       "    .dataframe tbody tr th:only-of-type {\n",
       "        vertical-align: middle;\n",
       "    }\n",
       "\n",
       "    .dataframe tbody tr th {\n",
       "        vertical-align: top;\n",
       "    }\n",
       "\n",
       "    .dataframe thead th {\n",
       "        text-align: right;\n",
       "    }\n",
       "</style>\n",
       "<table border=\"1\" class=\"dataframe\">\n",
       "  <thead>\n",
       "    <tr style=\"text-align: right;\">\n",
       "      <th></th>\n",
       "      <th>CCR6</th>\n",
       "      <th>CD20</th>\n",
       "      <th>CD45</th>\n",
       "      <th>CD14</th>\n",
       "      <th>CD16</th>\n",
       "      <th>CD8</th>\n",
       "      <th>CD3</th>\n",
       "      <th>CD4</th>\n",
       "    </tr>\n",
       "  </thead>\n",
       "  <tbody>\n",
       "    <tr>\n",
       "      <th>0</th>\n",
       "      <td>17.890000</td>\n",
       "      <td>10.2310</td>\n",
       "      <td>790.55</td>\n",
       "      <td>2.7417</td>\n",
       "      <td>0.00000</td>\n",
       "      <td>1.065300</td>\n",
       "      <td>179.600000</td>\n",
       "      <td>45.0630</td>\n",
       "    </tr>\n",
       "    <tr>\n",
       "      <th>1</th>\n",
       "      <td>0.000000</td>\n",
       "      <td>4.6372</td>\n",
       "      <td>1112.70</td>\n",
       "      <td>468.4100</td>\n",
       "      <td>0.25689</td>\n",
       "      <td>2.436200</td>\n",
       "      <td>1.781100</td>\n",
       "      <td>13.5060</td>\n",
       "    </tr>\n",
       "    <tr>\n",
       "      <th>2</th>\n",
       "      <td>0.002912</td>\n",
       "      <td>7.2418</td>\n",
       "      <td>1294.20</td>\n",
       "      <td>624.2500</td>\n",
       "      <td>0.00000</td>\n",
       "      <td>0.493150</td>\n",
       "      <td>2.351400</td>\n",
       "      <td>2.0904</td>\n",
       "    </tr>\n",
       "    <tr>\n",
       "      <th>3</th>\n",
       "      <td>2.911800</td>\n",
       "      <td>2.7268</td>\n",
       "      <td>1321.20</td>\n",
       "      <td>579.8200</td>\n",
       "      <td>0.00000</td>\n",
       "      <td>0.910060</td>\n",
       "      <td>1.575700</td>\n",
       "      <td>8.3613</td>\n",
       "    </tr>\n",
       "    <tr>\n",
       "      <th>4</th>\n",
       "      <td>0.000000</td>\n",
       "      <td>4.5986</td>\n",
       "      <td>778.36</td>\n",
       "      <td>0.0000</td>\n",
       "      <td>0.00000</td>\n",
       "      <td>0.000000</td>\n",
       "      <td>253.720000</td>\n",
       "      <td>38.5670</td>\n",
       "    </tr>\n",
       "    <tr>\n",
       "      <th>5</th>\n",
       "      <td>501.770000</td>\n",
       "      <td>921.6700</td>\n",
       "      <td>934.45</td>\n",
       "      <td>2.6003</td>\n",
       "      <td>0.00000</td>\n",
       "      <td>0.043438</td>\n",
       "      <td>2.614300</td>\n",
       "      <td>1.7870</td>\n",
       "    </tr>\n",
       "    <tr>\n",
       "      <th>6</th>\n",
       "      <td>0.753110</td>\n",
       "      <td>2.8833</td>\n",
       "      <td>964.34</td>\n",
       "      <td>383.8900</td>\n",
       "      <td>4.11720</td>\n",
       "      <td>0.000000</td>\n",
       "      <td>3.513200</td>\n",
       "      <td>1.4420</td>\n",
       "    </tr>\n",
       "    <tr>\n",
       "      <th>7</th>\n",
       "      <td>0.157420</td>\n",
       "      <td>0.0000</td>\n",
       "      <td>748.81</td>\n",
       "      <td>80.8760</td>\n",
       "      <td>1.59330</td>\n",
       "      <td>4.550900</td>\n",
       "      <td>4.110600</td>\n",
       "      <td>5.1319</td>\n",
       "    </tr>\n",
       "    <tr>\n",
       "      <th>8</th>\n",
       "      <td>0.000000</td>\n",
       "      <td>1.7064</td>\n",
       "      <td>965.98</td>\n",
       "      <td>1.4520</td>\n",
       "      <td>65.13400</td>\n",
       "      <td>0.186930</td>\n",
       "      <td>0.008875</td>\n",
       "      <td>0.0000</td>\n",
       "    </tr>\n",
       "    <tr>\n",
       "      <th>9</th>\n",
       "      <td>0.000000</td>\n",
       "      <td>2.5197</td>\n",
       "      <td>1308.40</td>\n",
       "      <td>0.2186</td>\n",
       "      <td>16.53700</td>\n",
       "      <td>83.937000</td>\n",
       "      <td>4.547600</td>\n",
       "      <td>1.5487</td>\n",
       "    </tr>\n",
       "  </tbody>\n",
       "</table>\n",
       "</div>"
      ],
      "text/plain": [
       "         CCR6      CD20     CD45      CD14      CD16        CD8         CD3  \\\n",
       "0   17.890000   10.2310   790.55    2.7417   0.00000   1.065300  179.600000   \n",
       "1    0.000000    4.6372  1112.70  468.4100   0.25689   2.436200    1.781100   \n",
       "2    0.002912    7.2418  1294.20  624.2500   0.00000   0.493150    2.351400   \n",
       "3    2.911800    2.7268  1321.20  579.8200   0.00000   0.910060    1.575700   \n",
       "4    0.000000    4.5986   778.36    0.0000   0.00000   0.000000  253.720000   \n",
       "5  501.770000  921.6700   934.45    2.6003   0.00000   0.043438    2.614300   \n",
       "6    0.753110    2.8833   964.34  383.8900   4.11720   0.000000    3.513200   \n",
       "7    0.157420    0.0000   748.81   80.8760   1.59330   4.550900    4.110600   \n",
       "8    0.000000    1.7064   965.98    1.4520  65.13400   0.186930    0.008875   \n",
       "9    0.000000    2.5197  1308.40    0.2186  16.53700  83.937000    4.547600   \n",
       "\n",
       "       CD4  \n",
       "0  45.0630  \n",
       "1  13.5060  \n",
       "2   2.0904  \n",
       "3   8.3613  \n",
       "4  38.5670  \n",
       "5   1.7870  \n",
       "6   1.4420  \n",
       "7   5.1319  \n",
       "8   0.0000  \n",
       "9   1.5487  "
      ]
     },
     "execution_count": 15,
     "metadata": {},
     "output_type": "execute_result"
    }
   ],
   "source": [
    "sample = pd.read_csv(\"../Data/MultiCenter/Samples/sample01.csv\", header=None)\n",
    "markers = ['CCR6','CD20','CD45','CD14','CD16','CD8','CD3','CD4']\n",
    "sample.columns = markers\n",
    "sample.head(10)"
   ]
  },
  {
   "cell_type": "markdown",
   "metadata": {},
   "source": [
    "X-fold validation with one file/sample being left out each iteration and used as test:\n",
    "CV-samples in paper"
   ]
  },
  {
   "cell_type": "code",
   "execution_count": 16,
   "metadata": {
    "collapsed": true
   },
   "outputs": [],
   "source": [
    "labelfiles = os.listdir(\"../Data/MultiCenter/Labels/\")\n",
    "samplefiles = os.listdir(\"../Data/MultiCenter/Samples/\")\n",
    "labelfiles.sort()\n",
    "samplefiles.sort()\n",
    "\n"
   ]
  },
  {
   "cell_type": "markdown",
   "metadata": {},
   "source": [
    "## Stratify MultiCenter per sample\n",
    "Train 10 iterations of MultiCenter with 9 samples, leaving one out <br>\n",
    "Predict labels for sample which was excluded from training <br>\n",
    "Save predictions to file and prediction accuracy to variable <br>\n",
    "MultiCenter CV-samples in paper"
   ]
  },
  {
   "cell_type": "code",
   "execution_count": 17,
   "metadata": {},
   "outputs": [
    {
     "name": "stdout",
     "output_type": "stream",
     "text": [
      "Done testing sample01.csv\n",
      "Done testing sample02.csv\n",
      "Done testing sample03.csv\n",
      "Done testing sample04.csv\n",
      "Done testing sample05.csv\n",
      "Done testing sample06.csv\n",
      "Done testing sample07.csv\n",
      "Done testing sample08.csv\n",
      "Done testing sample09.csv\n",
      "Done testing sample10.csv\n",
      "Done testing sample11.csv\n",
      "Done testing sample12.csv\n",
      "Done testing sample13.csv\n",
      "Done testing sample14.csv\n",
      "Done testing sample15.csv\n",
      "Done testing sample16.csv\n"
     ]
    }
   ],
   "source": [
    "kfoldsplitter = KFold(n_splits=len(samplefiles))\n",
    "for train, test in kfoldsplitter.split(labelfiles):\n",
    "    classifier = LinearDiscriminantAnalysis()\n",
    "    for trainingset in train:\n",
    "        X = pd.read_csv(\"../Data/MultiCenter/Samples/\" + samplefiles[trainingset], header=None).values #train\n",
    "        y = pd.read_csv(\"../Data/MultiCenter/Labels/\" + labelfiles[trainingset], header=None).values.ravel() #labels\n",
    "        classifier.fit(X, y)\n",
    "    testdata = pd.read_csv(\"../Data/MultiCenter/Samples/\" + samplefiles[test[0]], header=None).values #test\n",
    "    testlabels = pd.read_csv(\"../Data/MultiCenter/Labels/\" + labelfiles[test[0]], header=None).values.ravel() #testlabels\n",
    "    #score testdata with its true labels in model trained against 9 other samples & save to file\n",
    "    prediction = classifier.predict(testdata)\n",
    "    with open('../Results/Predictions/MultiCenter LDA/CV-sample/predict_'+samplefiles[test[0]], 'w') as f:\n",
    "        for item in prediction:\n",
    "            f.write(\"%s\\n\" % item)\n",
    "    print(\"Done testing %s\" % samplefiles[test[0]])\n"
   ]
  },
  {
   "cell_type": "markdown",
   "metadata": {},
   "source": [
    "## Stratify PANORAMA 5-fold"
   ]
  },
  {
   "cell_type": "code",
   "execution_count": 18,
   "metadata": {
    "collapsed": true
   },
   "outputs": [],
   "source": [
    "kfoldsplitter = KFold(n_splits=5)\n",
    "\n",
    "#Load all samples and labels for 5-cold CV\n",
    "samplesheap = pd.DataFrame()\n",
    "labelsheap = pd.DataFrame()\n",
    "\n",
    "for labelname, samplename in zip(labelfiles, samplefiles):\n",
    "    samplesheap = samplesheap.append(pd.read_csv(\"../Data/MultiCenter/Samples/\" + samplename, header=None))\n",
    "    labelsheap = labelsheap.append(pd.read_csv(\"../Data/MultiCenter/Labels/\" + labelname, header=None))\n",
    "\n"
   ]
  },
  {
   "cell_type": "markdown",
   "metadata": {},
   "source": [
    "Number of predictions/trues matches original numer of instances"
   ]
  },
  {
   "cell_type": "code",
   "execution_count": 19,
   "metadata": {},
   "outputs": [
    {
     "name": "stdout",
     "output_type": "stream",
     "text": [
      "185937\n",
      "Done testing 1\n",
      "185937\n",
      "Done testing 2\n",
      "185937\n",
      "Done testing 3\n",
      "185937\n",
      "Done testing 4\n",
      "185937\n",
      "Done testing 5\n"
     ]
    }
   ],
   "source": [
    "\n",
    "\n",
    "batch = 1\n",
    "for train, test in kfoldsplitter.split(samplesheap):\n",
    "    classifier = LinearDiscriminantAnalysis()\n",
    "    #select test/train/true labels\n",
    "    testdata = samplesheap.iloc[test].values\n",
    "    traindata = samplesheap.iloc[train].values\n",
    "    trainlabels = labelsheap.iloc[train].values.ravel()\n",
    "    #fit & predict\n",
    "    classifier.fit(traindata, trainlabels)\n",
    "    prediction = classifier.predict(testdata)\n",
    "    #write prediction to file\n",
    "    print(len(prediction))\n",
    "\n",
    "    with open('../Results/Predictions/MultiCenter LDA/CV-cells/predict_batch_' + str(batch) +'.csv', 'w') as f:\n",
    "        for item in prediction:\n",
    "            f.write(\"%s\\n\" % item)\n",
    "    print(\"Done testing %s\" % str(batch))\n",
    "    batch += 1"
   ]
  },
  {
   "cell_type": "code",
   "execution_count": 20,
   "metadata": {},
   "outputs": [
    {
     "name": "stdout",
     "output_type": "stream",
     "text": [
      "929685\n"
     ]
    }
   ],
   "source": [
    "#remove enormous datasets from memory\n",
    "print(len(samplesheap))\n",
    "\n",
    "del labelsheap\n",
    "del samplesheap"
   ]
  }
 ],
 "metadata": {
  "kernelspec": {
   "display_name": "Python 3",
   "language": "python",
   "name": "python3"
  },
  "language_info": {
   "codemirror_mode": {
    "name": "ipython",
    "version": 3
   },
   "file_extension": ".py",
   "mimetype": "text/x-python",
   "name": "python",
   "nbconvert_exporter": "python",
   "pygments_lexer": "ipython3",
   "version": "3.6.3"
  }
 },
 "nbformat": 4,
 "nbformat_minor": 2
}
